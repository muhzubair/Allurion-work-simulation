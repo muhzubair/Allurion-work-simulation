{
 "cells": [
  {
   "attachments": {},
   "cell_type": "markdown",
   "metadata": {},
   "source": [
    "## Muhammad Zubair\n",
    "### Problem 2 walkthrough"
   ]
  },
  {
   "attachments": {},
   "cell_type": "markdown",
   "metadata": {},
   "source": [
    "##### Importing libraries"
   ]
  },
  {
   "cell_type": "code",
   "execution_count": 3,
   "metadata": {},
   "outputs": [],
   "source": [
    "#libraries\n",
    "import pandas as pd \n",
    "import numpy as np \n",
    "import matplotlib as mt\n",
    "import matplotlib.pyplot as plt\n",
    "from sklearn.ensemble import RandomForestClassifier\n",
    "from sklearn.metrics import roc_curve, confusion_matrix, precision_score, recall_score, ConfusionMatrixDisplay, f1_score, roc_auc_score, classification_report\n",
    "from sklearn.model_selection import RandomizedSearchCV, GridSearchCV \n",
    "import xgboost as xgb\n",
    "from xgboost import XGBClassifier\n",
    "import tensorflow as tf\n",
    "import seaborn as sns"
   ]
  },
  {
   "attachments": {},
   "cell_type": "markdown",
   "metadata": {},
   "source": [
    "#### Reading Data files, displaying them "
   ]
  },
  {
   "cell_type": "code",
   "execution_count": 4,
   "metadata": {},
   "outputs": [],
   "source": [
    "treatements = pd.read_csv('treatments.csv')\n",
    "users = pd.read_csv('users.csv')\n",
    "weights = pd.read_csv('weights.csv')"
   ]
  },
  {
   "cell_type": "code",
   "execution_count": 5,
   "metadata": {},
   "outputs": [
    {
     "data": {
      "text/html": [
       "<div>\n",
       "<style scoped>\n",
       "    .dataframe tbody tr th:only-of-type {\n",
       "        vertical-align: middle;\n",
       "    }\n",
       "\n",
       "    .dataframe tbody tr th {\n",
       "        vertical-align: top;\n",
       "    }\n",
       "\n",
       "    .dataframe thead th {\n",
       "        text-align: right;\n",
       "    }\n",
       "</style>\n",
       "<table border=\"1\" class=\"dataframe\">\n",
       "  <thead>\n",
       "    <tr style=\"text-align: right;\">\n",
       "      <th></th>\n",
       "      <th>UID</th>\n",
       "      <th>Name</th>\n",
       "      <th>LastName</th>\n",
       "      <th>Gender</th>\n",
       "      <th>Unit</th>\n",
       "      <th>Birthday</th>\n",
       "      <th>Age</th>\n",
       "      <th>Height</th>\n",
       "      <th>CreatedDate</th>\n",
       "      <th>IsActive</th>\n",
       "      <th>ClinicID</th>\n",
       "      <th>loginId</th>\n",
       "      <th>success</th>\n",
       "    </tr>\n",
       "  </thead>\n",
       "  <tbody>\n",
       "    <tr>\n",
       "      <th>0</th>\n",
       "      <td>77f03b02-1a05-11ee-a492-eaf1cf2ff621</td>\n",
       "      <td>Jay</td>\n",
       "      <td>Hood</td>\n",
       "      <td>Male</td>\n",
       "      <td>0</td>\n",
       "      <td>1960-06-19 14:32:36</td>\n",
       "      <td>63</td>\n",
       "      <td>170</td>\n",
       "      <td>2023-03-08 18:54:42</td>\n",
       "      <td>True</td>\n",
       "      <td>5066</td>\n",
       "      <td>NaN</td>\n",
       "      <td>True</td>\n",
       "    </tr>\n",
       "    <tr>\n",
       "      <th>1</th>\n",
       "      <td>787d3af2-1a05-11ee-a492-eaf1cf2ff621</td>\n",
       "      <td>Austin</td>\n",
       "      <td>Carter</td>\n",
       "      <td>Male</td>\n",
       "      <td>1</td>\n",
       "      <td>1985-05-12 19:18:43</td>\n",
       "      <td>38</td>\n",
       "      <td>166</td>\n",
       "      <td>2023-05-13 18:54:42</td>\n",
       "      <td>True</td>\n",
       "      <td>5066</td>\n",
       "      <td>NaN</td>\n",
       "      <td>True</td>\n",
       "    </tr>\n",
       "    <tr>\n",
       "      <th>2</th>\n",
       "      <td>78bfc34a-1a05-11ee-a492-eaf1cf2ff621</td>\n",
       "      <td>Breanna</td>\n",
       "      <td>Frank</td>\n",
       "      <td>Female</td>\n",
       "      <td>1</td>\n",
       "      <td>1983-02-14 08:59:22</td>\n",
       "      <td>40</td>\n",
       "      <td>159</td>\n",
       "      <td>2023-03-21 18:54:42</td>\n",
       "      <td>True</td>\n",
       "      <td>5066</td>\n",
       "      <td>NaN</td>\n",
       "      <td>True</td>\n",
       "    </tr>\n",
       "    <tr>\n",
       "      <th>3</th>\n",
       "      <td>793dddde-1a05-11ee-a492-eaf1cf2ff621</td>\n",
       "      <td>Gwendolyn</td>\n",
       "      <td>Charles</td>\n",
       "      <td>Female</td>\n",
       "      <td>1</td>\n",
       "      <td>1980-04-20 04:57:38</td>\n",
       "      <td>43</td>\n",
       "      <td>159</td>\n",
       "      <td>2023-04-18 18:54:42</td>\n",
       "      <td>True</td>\n",
       "      <td>5066</td>\n",
       "      <td>NaN</td>\n",
       "      <td>True</td>\n",
       "    </tr>\n",
       "    <tr>\n",
       "      <th>4</th>\n",
       "      <td>799e3c06-1a05-11ee-a492-eaf1cf2ff621</td>\n",
       "      <td>Cheyenne</td>\n",
       "      <td>Davis</td>\n",
       "      <td>Female</td>\n",
       "      <td>0</td>\n",
       "      <td>1980-03-30 14:34:05</td>\n",
       "      <td>43</td>\n",
       "      <td>161</td>\n",
       "      <td>2023-03-15 18:54:42</td>\n",
       "      <td>True</td>\n",
       "      <td>5066</td>\n",
       "      <td>NaN</td>\n",
       "      <td>True</td>\n",
       "    </tr>\n",
       "  </tbody>\n",
       "</table>\n",
       "</div>"
      ],
      "text/plain": [
       "                                    UID       Name LastName  Gender  Unit  \\\n",
       "0  77f03b02-1a05-11ee-a492-eaf1cf2ff621        Jay     Hood    Male     0   \n",
       "1  787d3af2-1a05-11ee-a492-eaf1cf2ff621     Austin   Carter    Male     1   \n",
       "2  78bfc34a-1a05-11ee-a492-eaf1cf2ff621    Breanna    Frank  Female     1   \n",
       "3  793dddde-1a05-11ee-a492-eaf1cf2ff621  Gwendolyn  Charles  Female     1   \n",
       "4  799e3c06-1a05-11ee-a492-eaf1cf2ff621   Cheyenne    Davis  Female     0   \n",
       "\n",
       "              Birthday  Age  Height          CreatedDate  IsActive  ClinicID  \\\n",
       "0  1960-06-19 14:32:36   63     170  2023-03-08 18:54:42      True      5066   \n",
       "1  1985-05-12 19:18:43   38     166  2023-05-13 18:54:42      True      5066   \n",
       "2  1983-02-14 08:59:22   40     159  2023-03-21 18:54:42      True      5066   \n",
       "3  1980-04-20 04:57:38   43     159  2023-04-18 18:54:42      True      5066   \n",
       "4  1980-03-30 14:34:05   43     161  2023-03-15 18:54:42      True      5066   \n",
       "\n",
       "   loginId  success  \n",
       "0      NaN     True  \n",
       "1      NaN     True  \n",
       "2      NaN     True  \n",
       "3      NaN     True  \n",
       "4      NaN     True  "
      ]
     },
     "execution_count": 5,
     "metadata": {},
     "output_type": "execute_result"
    }
   ],
   "source": [
    "users.head()"
   ]
  },
  {
   "cell_type": "code",
   "execution_count": 6,
   "metadata": {},
   "outputs": [
    {
     "data": {
      "text/html": [
       "<div>\n",
       "<style scoped>\n",
       "    .dataframe tbody tr th:only-of-type {\n",
       "        vertical-align: middle;\n",
       "    }\n",
       "\n",
       "    .dataframe tbody tr th {\n",
       "        vertical-align: top;\n",
       "    }\n",
       "\n",
       "    .dataframe thead th {\n",
       "        text-align: right;\n",
       "    }\n",
       "</style>\n",
       "<table border=\"1\" class=\"dataframe\">\n",
       "  <thead>\n",
       "    <tr style=\"text-align: right;\">\n",
       "      <th></th>\n",
       "      <th>MasterUserID</th>\n",
       "      <th>Weight</th>\n",
       "      <th>BMI</th>\n",
       "      <th>BodyFat</th>\n",
       "      <th>BodyWater</th>\n",
       "      <th>Bone</th>\n",
       "      <th>VisceralFat</th>\n",
       "      <th>BMR</th>\n",
       "      <th>MuscleMass</th>\n",
       "      <th>CreatedDate</th>\n",
       "      <th>UpdatedDate</th>\n",
       "      <th>IsActive</th>\n",
       "      <th>IsDelete</th>\n",
       "    </tr>\n",
       "  </thead>\n",
       "  <tbody>\n",
       "    <tr>\n",
       "      <th>0</th>\n",
       "      <td>77f03b02-1a05-11ee-a492-eaf1cf2ff621</td>\n",
       "      <td>86.8</td>\n",
       "      <td>30.0</td>\n",
       "      <td>26.9</td>\n",
       "      <td>50.0</td>\n",
       "      <td>3.0</td>\n",
       "      <td>12.8</td>\n",
       "      <td>1709.4</td>\n",
       "      <td>57.2</td>\n",
       "      <td>2023-05-16 18:54:42</td>\n",
       "      <td>2023-05-16 18:54:42</td>\n",
       "      <td>True</td>\n",
       "      <td>False</td>\n",
       "    </tr>\n",
       "    <tr>\n",
       "      <th>1</th>\n",
       "      <td>77f03b02-1a05-11ee-a492-eaf1cf2ff621</td>\n",
       "      <td>87.9</td>\n",
       "      <td>30.4</td>\n",
       "      <td>27.1</td>\n",
       "      <td>48.4</td>\n",
       "      <td>3.0</td>\n",
       "      <td>12.9</td>\n",
       "      <td>1724.0</td>\n",
       "      <td>57.0</td>\n",
       "      <td>2023-04-23 18:54:42</td>\n",
       "      <td>2023-04-23 18:54:42</td>\n",
       "      <td>True</td>\n",
       "      <td>False</td>\n",
       "    </tr>\n",
       "    <tr>\n",
       "      <th>2</th>\n",
       "      <td>77f03b02-1a05-11ee-a492-eaf1cf2ff621</td>\n",
       "      <td>87.3</td>\n",
       "      <td>30.2</td>\n",
       "      <td>27.1</td>\n",
       "      <td>48.8</td>\n",
       "      <td>3.0</td>\n",
       "      <td>12.9</td>\n",
       "      <td>1716.2</td>\n",
       "      <td>57.0</td>\n",
       "      <td>2023-05-05 18:54:42</td>\n",
       "      <td>2023-05-05 18:54:42</td>\n",
       "      <td>True</td>\n",
       "      <td>False</td>\n",
       "    </tr>\n",
       "    <tr>\n",
       "      <th>3</th>\n",
       "      <td>77f03b02-1a05-11ee-a492-eaf1cf2ff621</td>\n",
       "      <td>84.1</td>\n",
       "      <td>29.1</td>\n",
       "      <td>25.5</td>\n",
       "      <td>51.0</td>\n",
       "      <td>2.6</td>\n",
       "      <td>12.7</td>\n",
       "      <td>1673.6</td>\n",
       "      <td>55.9</td>\n",
       "      <td>2023-06-30 18:54:42</td>\n",
       "      <td>2023-06-30 18:54:42</td>\n",
       "      <td>True</td>\n",
       "      <td>False</td>\n",
       "    </tr>\n",
       "    <tr>\n",
       "      <th>4</th>\n",
       "      <td>77f03b02-1a05-11ee-a492-eaf1cf2ff621</td>\n",
       "      <td>86.6</td>\n",
       "      <td>30.0</td>\n",
       "      <td>26.8</td>\n",
       "      <td>50.0</td>\n",
       "      <td>3.0</td>\n",
       "      <td>12.8</td>\n",
       "      <td>1706.4</td>\n",
       "      <td>57.2</td>\n",
       "      <td>2023-05-20 18:54:42</td>\n",
       "      <td>2023-05-20 18:54:42</td>\n",
       "      <td>True</td>\n",
       "      <td>False</td>\n",
       "    </tr>\n",
       "  </tbody>\n",
       "</table>\n",
       "</div>"
      ],
      "text/plain": [
       "                           MasterUserID  Weight   BMI  BodyFat  BodyWater  \\\n",
       "0  77f03b02-1a05-11ee-a492-eaf1cf2ff621    86.8  30.0     26.9       50.0   \n",
       "1  77f03b02-1a05-11ee-a492-eaf1cf2ff621    87.9  30.4     27.1       48.4   \n",
       "2  77f03b02-1a05-11ee-a492-eaf1cf2ff621    87.3  30.2     27.1       48.8   \n",
       "3  77f03b02-1a05-11ee-a492-eaf1cf2ff621    84.1  29.1     25.5       51.0   \n",
       "4  77f03b02-1a05-11ee-a492-eaf1cf2ff621    86.6  30.0     26.8       50.0   \n",
       "\n",
       "   Bone  VisceralFat     BMR  MuscleMass          CreatedDate  \\\n",
       "0   3.0         12.8  1709.4        57.2  2023-05-16 18:54:42   \n",
       "1   3.0         12.9  1724.0        57.0  2023-04-23 18:54:42   \n",
       "2   3.0         12.9  1716.2        57.0  2023-05-05 18:54:42   \n",
       "3   2.6         12.7  1673.6        55.9  2023-06-30 18:54:42   \n",
       "4   3.0         12.8  1706.4        57.2  2023-05-20 18:54:42   \n",
       "\n",
       "           UpdatedDate  IsActive  IsDelete  \n",
       "0  2023-05-16 18:54:42      True     False  \n",
       "1  2023-04-23 18:54:42      True     False  \n",
       "2  2023-05-05 18:54:42      True     False  \n",
       "3  2023-06-30 18:54:42      True     False  \n",
       "4  2023-05-20 18:54:42      True     False  "
      ]
     },
     "execution_count": 6,
     "metadata": {},
     "output_type": "execute_result"
    }
   ],
   "source": [
    "weights.head()"
   ]
  },
  {
   "cell_type": "code",
   "execution_count": 7,
   "metadata": {},
   "outputs": [
    {
     "data": {
      "text/html": [
       "<div>\n",
       "<style scoped>\n",
       "    .dataframe tbody tr th:only-of-type {\n",
       "        vertical-align: middle;\n",
       "    }\n",
       "\n",
       "    .dataframe tbody tr th {\n",
       "        vertical-align: top;\n",
       "    }\n",
       "\n",
       "    .dataframe thead th {\n",
       "        text-align: right;\n",
       "    }\n",
       "</style>\n",
       "<table border=\"1\" class=\"dataframe\">\n",
       "  <thead>\n",
       "    <tr style=\"text-align: right;\">\n",
       "      <th></th>\n",
       "      <th>MasterUserID</th>\n",
       "      <th>TreatmentTypeID</th>\n",
       "      <th>StartDate</th>\n",
       "    </tr>\n",
       "  </thead>\n",
       "  <tbody>\n",
       "    <tr>\n",
       "      <th>0</th>\n",
       "      <td>77f03b02-1a05-11ee-a492-eaf1cf2ff621</td>\n",
       "      <td>1</td>\n",
       "      <td>2023-03-08 18:54:42</td>\n",
       "    </tr>\n",
       "    <tr>\n",
       "      <th>1</th>\n",
       "      <td>787d3af2-1a05-11ee-a492-eaf1cf2ff621</td>\n",
       "      <td>1</td>\n",
       "      <td>2023-05-13 18:54:42</td>\n",
       "    </tr>\n",
       "    <tr>\n",
       "      <th>2</th>\n",
       "      <td>78bfc34a-1a05-11ee-a492-eaf1cf2ff621</td>\n",
       "      <td>1</td>\n",
       "      <td>2023-03-21 18:54:42</td>\n",
       "    </tr>\n",
       "    <tr>\n",
       "      <th>3</th>\n",
       "      <td>793dddde-1a05-11ee-a492-eaf1cf2ff621</td>\n",
       "      <td>1</td>\n",
       "      <td>2023-04-18 18:54:42</td>\n",
       "    </tr>\n",
       "    <tr>\n",
       "      <th>4</th>\n",
       "      <td>799e3c06-1a05-11ee-a492-eaf1cf2ff621</td>\n",
       "      <td>1</td>\n",
       "      <td>2023-03-15 18:54:42</td>\n",
       "    </tr>\n",
       "  </tbody>\n",
       "</table>\n",
       "</div>"
      ],
      "text/plain": [
       "                           MasterUserID  TreatmentTypeID            StartDate\n",
       "0  77f03b02-1a05-11ee-a492-eaf1cf2ff621                1  2023-03-08 18:54:42\n",
       "1  787d3af2-1a05-11ee-a492-eaf1cf2ff621                1  2023-05-13 18:54:42\n",
       "2  78bfc34a-1a05-11ee-a492-eaf1cf2ff621                1  2023-03-21 18:54:42\n",
       "3  793dddde-1a05-11ee-a492-eaf1cf2ff621                1  2023-04-18 18:54:42\n",
       "4  799e3c06-1a05-11ee-a492-eaf1cf2ff621                1  2023-03-15 18:54:42"
      ]
     },
     "execution_count": 7,
     "metadata": {},
     "output_type": "execute_result"
    }
   ],
   "source": [
    "treatements.head()"
   ]
  },
  {
   "attachments": {},
   "cell_type": "markdown",
   "metadata": {},
   "source": [
    "#### Joining the three files using MasterUserID"
   ]
  },
  {
   "cell_type": "code",
   "execution_count": 8,
   "metadata": {},
   "outputs": [],
   "source": [
    "# renaming the column UID to MasterUserID\n",
    "users = users.rename(columns={'UID':'MasterUserID'})"
   ]
  },
  {
   "cell_type": "code",
   "execution_count": 9,
   "metadata": {},
   "outputs": [
    {
     "data": {
      "text/html": [
       "<div>\n",
       "<style scoped>\n",
       "    .dataframe tbody tr th:only-of-type {\n",
       "        vertical-align: middle;\n",
       "    }\n",
       "\n",
       "    .dataframe tbody tr th {\n",
       "        vertical-align: top;\n",
       "    }\n",
       "\n",
       "    .dataframe thead th {\n",
       "        text-align: right;\n",
       "    }\n",
       "</style>\n",
       "<table border=\"1\" class=\"dataframe\">\n",
       "  <thead>\n",
       "    <tr style=\"text-align: right;\">\n",
       "      <th></th>\n",
       "      <th>MasterUserID</th>\n",
       "      <th>Name</th>\n",
       "      <th>LastName</th>\n",
       "      <th>Gender</th>\n",
       "      <th>Unit</th>\n",
       "      <th>Birthday</th>\n",
       "      <th>Age</th>\n",
       "      <th>Height</th>\n",
       "      <th>CreatedDate_x</th>\n",
       "      <th>IsActive_x</th>\n",
       "      <th>...</th>\n",
       "      <th>Bone</th>\n",
       "      <th>VisceralFat</th>\n",
       "      <th>BMR</th>\n",
       "      <th>MuscleMass</th>\n",
       "      <th>CreatedDate_y</th>\n",
       "      <th>UpdatedDate</th>\n",
       "      <th>IsActive_y</th>\n",
       "      <th>IsDelete</th>\n",
       "      <th>TreatmentTypeID</th>\n",
       "      <th>StartDate</th>\n",
       "    </tr>\n",
       "  </thead>\n",
       "  <tbody>\n",
       "    <tr>\n",
       "      <th>0</th>\n",
       "      <td>77f03b02-1a05-11ee-a492-eaf1cf2ff621</td>\n",
       "      <td>Jay</td>\n",
       "      <td>Hood</td>\n",
       "      <td>Male</td>\n",
       "      <td>0</td>\n",
       "      <td>1960-06-19 14:32:36</td>\n",
       "      <td>63</td>\n",
       "      <td>170</td>\n",
       "      <td>2023-03-08 18:54:42</td>\n",
       "      <td>True</td>\n",
       "      <td>...</td>\n",
       "      <td>3.0</td>\n",
       "      <td>12.8</td>\n",
       "      <td>1709.4</td>\n",
       "      <td>57.2</td>\n",
       "      <td>2023-05-16 18:54:42</td>\n",
       "      <td>2023-05-16 18:54:42</td>\n",
       "      <td>True</td>\n",
       "      <td>False</td>\n",
       "      <td>1</td>\n",
       "      <td>2023-03-08 18:54:42</td>\n",
       "    </tr>\n",
       "    <tr>\n",
       "      <th>1</th>\n",
       "      <td>77f03b02-1a05-11ee-a492-eaf1cf2ff621</td>\n",
       "      <td>Jay</td>\n",
       "      <td>Hood</td>\n",
       "      <td>Male</td>\n",
       "      <td>0</td>\n",
       "      <td>1960-06-19 14:32:36</td>\n",
       "      <td>63</td>\n",
       "      <td>170</td>\n",
       "      <td>2023-03-08 18:54:42</td>\n",
       "      <td>True</td>\n",
       "      <td>...</td>\n",
       "      <td>3.0</td>\n",
       "      <td>12.9</td>\n",
       "      <td>1724.0</td>\n",
       "      <td>57.0</td>\n",
       "      <td>2023-04-23 18:54:42</td>\n",
       "      <td>2023-04-23 18:54:42</td>\n",
       "      <td>True</td>\n",
       "      <td>False</td>\n",
       "      <td>1</td>\n",
       "      <td>2023-03-08 18:54:42</td>\n",
       "    </tr>\n",
       "    <tr>\n",
       "      <th>2</th>\n",
       "      <td>77f03b02-1a05-11ee-a492-eaf1cf2ff621</td>\n",
       "      <td>Jay</td>\n",
       "      <td>Hood</td>\n",
       "      <td>Male</td>\n",
       "      <td>0</td>\n",
       "      <td>1960-06-19 14:32:36</td>\n",
       "      <td>63</td>\n",
       "      <td>170</td>\n",
       "      <td>2023-03-08 18:54:42</td>\n",
       "      <td>True</td>\n",
       "      <td>...</td>\n",
       "      <td>3.0</td>\n",
       "      <td>12.9</td>\n",
       "      <td>1716.2</td>\n",
       "      <td>57.0</td>\n",
       "      <td>2023-05-05 18:54:42</td>\n",
       "      <td>2023-05-05 18:54:42</td>\n",
       "      <td>True</td>\n",
       "      <td>False</td>\n",
       "      <td>1</td>\n",
       "      <td>2023-03-08 18:54:42</td>\n",
       "    </tr>\n",
       "    <tr>\n",
       "      <th>3</th>\n",
       "      <td>77f03b02-1a05-11ee-a492-eaf1cf2ff621</td>\n",
       "      <td>Jay</td>\n",
       "      <td>Hood</td>\n",
       "      <td>Male</td>\n",
       "      <td>0</td>\n",
       "      <td>1960-06-19 14:32:36</td>\n",
       "      <td>63</td>\n",
       "      <td>170</td>\n",
       "      <td>2023-03-08 18:54:42</td>\n",
       "      <td>True</td>\n",
       "      <td>...</td>\n",
       "      <td>2.6</td>\n",
       "      <td>12.7</td>\n",
       "      <td>1673.6</td>\n",
       "      <td>55.9</td>\n",
       "      <td>2023-06-30 18:54:42</td>\n",
       "      <td>2023-06-30 18:54:42</td>\n",
       "      <td>True</td>\n",
       "      <td>False</td>\n",
       "      <td>1</td>\n",
       "      <td>2023-03-08 18:54:42</td>\n",
       "    </tr>\n",
       "    <tr>\n",
       "      <th>4</th>\n",
       "      <td>77f03b02-1a05-11ee-a492-eaf1cf2ff621</td>\n",
       "      <td>Jay</td>\n",
       "      <td>Hood</td>\n",
       "      <td>Male</td>\n",
       "      <td>0</td>\n",
       "      <td>1960-06-19 14:32:36</td>\n",
       "      <td>63</td>\n",
       "      <td>170</td>\n",
       "      <td>2023-03-08 18:54:42</td>\n",
       "      <td>True</td>\n",
       "      <td>...</td>\n",
       "      <td>3.0</td>\n",
       "      <td>12.8</td>\n",
       "      <td>1706.4</td>\n",
       "      <td>57.2</td>\n",
       "      <td>2023-05-20 18:54:42</td>\n",
       "      <td>2023-05-20 18:54:42</td>\n",
       "      <td>True</td>\n",
       "      <td>False</td>\n",
       "      <td>1</td>\n",
       "      <td>2023-03-08 18:54:42</td>\n",
       "    </tr>\n",
       "  </tbody>\n",
       "</table>\n",
       "<p>5 rows × 27 columns</p>\n",
       "</div>"
      ],
      "text/plain": [
       "                           MasterUserID Name LastName Gender  Unit  \\\n",
       "0  77f03b02-1a05-11ee-a492-eaf1cf2ff621  Jay     Hood   Male     0   \n",
       "1  77f03b02-1a05-11ee-a492-eaf1cf2ff621  Jay     Hood   Male     0   \n",
       "2  77f03b02-1a05-11ee-a492-eaf1cf2ff621  Jay     Hood   Male     0   \n",
       "3  77f03b02-1a05-11ee-a492-eaf1cf2ff621  Jay     Hood   Male     0   \n",
       "4  77f03b02-1a05-11ee-a492-eaf1cf2ff621  Jay     Hood   Male     0   \n",
       "\n",
       "              Birthday  Age  Height        CreatedDate_x  IsActive_x  ...  \\\n",
       "0  1960-06-19 14:32:36   63     170  2023-03-08 18:54:42        True  ...   \n",
       "1  1960-06-19 14:32:36   63     170  2023-03-08 18:54:42        True  ...   \n",
       "2  1960-06-19 14:32:36   63     170  2023-03-08 18:54:42        True  ...   \n",
       "3  1960-06-19 14:32:36   63     170  2023-03-08 18:54:42        True  ...   \n",
       "4  1960-06-19 14:32:36   63     170  2023-03-08 18:54:42        True  ...   \n",
       "\n",
       "   Bone  VisceralFat     BMR  MuscleMass        CreatedDate_y  \\\n",
       "0   3.0         12.8  1709.4        57.2  2023-05-16 18:54:42   \n",
       "1   3.0         12.9  1724.0        57.0  2023-04-23 18:54:42   \n",
       "2   3.0         12.9  1716.2        57.0  2023-05-05 18:54:42   \n",
       "3   2.6         12.7  1673.6        55.9  2023-06-30 18:54:42   \n",
       "4   3.0         12.8  1706.4        57.2  2023-05-20 18:54:42   \n",
       "\n",
       "           UpdatedDate  IsActive_y  IsDelete  TreatmentTypeID  \\\n",
       "0  2023-05-16 18:54:42        True     False                1   \n",
       "1  2023-04-23 18:54:42        True     False                1   \n",
       "2  2023-05-05 18:54:42        True     False                1   \n",
       "3  2023-06-30 18:54:42        True     False                1   \n",
       "4  2023-05-20 18:54:42        True     False                1   \n",
       "\n",
       "             StartDate  \n",
       "0  2023-03-08 18:54:42  \n",
       "1  2023-03-08 18:54:42  \n",
       "2  2023-03-08 18:54:42  \n",
       "3  2023-03-08 18:54:42  \n",
       "4  2023-03-08 18:54:42  \n",
       "\n",
       "[5 rows x 27 columns]"
      ]
     },
     "execution_count": 9,
     "metadata": {},
     "output_type": "execute_result"
    }
   ],
   "source": [
    "# Join statement\n",
    "df = pd.merge(pd.merge(users,weights,on='MasterUserID'),treatements,on='MasterUserID')\n",
    "df.head()"
   ]
  },
  {
   "attachments": {},
   "cell_type": "markdown",
   "metadata": {},
   "source": [
    "### Exploratory Data Aanalysis \n",
    "Understanding my data through visualization plots to determine feature engineering techniques I will utilize, the type of model I will build, and model evaluation metrics I will use on this dataset. "
   ]
  },
  {
   "cell_type": "code",
   "execution_count": 10,
   "metadata": {},
   "outputs": [
    {
     "data": {
      "text/plain": [
       "<Axes: xlabel='success'>"
      ]
     },
     "execution_count": 10,
     "metadata": {},
     "output_type": "execute_result"
    },
    {
     "data": {
      "image/png": "[encoded data removed]",
      "text/plain": [
       "<Figure size 640x480 with 1 Axes>"
      ]
     },
     "metadata": {},
     "output_type": "display_data"
    }
   ],
   "source": [
    "# Identifying if the response column is balanced\n",
    "df['success'].value_counts().plot(kind='bar')"
   ]
  },
  {
   "attachments": {},
   "cell_type": "markdown",
   "metadata": {},
   "source": [
    "##### The sucesss (response) column is not balanced. This implies that we will have to use confusion matrix (Precision / Recall), ROC plot, and AUC score to evaluate our model. \n",
    "\n",
    "**Note:**    \n",
    "**Using Accuracy will lead to incorrect evaluation of the model as this data does not have equal balanced classes, as seen from the plot above.**"
   ]
  },
  {
   "cell_type": "code",
   "execution_count": 11,
   "metadata": {},
   "outputs": [
    {
     "data": {
      "text/plain": [
       "<Axes: ylabel='Unit'>"
      ]
     },
     "execution_count": 11,
     "metadata": {},
     "output_type": "execute_result"
    },
    {
     "data": {
      "image/png": "[encoded data removed]",
      "text/plain": [
       "<Figure size 640x480 with 1 Axes>"
      ]
     },
     "metadata": {},
     "output_type": "display_data"
    }
   ],
   "source": [
    "df['Unit'].value_counts().plot(kind='barh')"
   ]
  },
  {
   "cell_type": "code",
   "execution_count": 12,
   "metadata": {},
   "outputs": [
    {
     "data": {
      "text/plain": [
       "<Axes: >"
      ]
     },
     "execution_count": 12,
     "metadata": {},
     "output_type": "execute_result"
    },
    {
     "data": {
      "image/png": "[encoded data removed]",
      "text/plain": [
       "<Figure size 640x480 with 1 Axes>"
      ]
     },
     "metadata": {},
     "output_type": "display_data"
    }
   ],
   "source": [
    "df['MasterUserID'].value_counts().plot(kind='box')"
   ]
  },
  {
   "attachments": {},
   "cell_type": "markdown",
   "metadata": {},
   "source": [
    "##### We can see that there are some outliers in data. Implying that some patients have more data than other patients (median is around 35)\n",
    "\n",
    "\n",
    "**Note:**    \n",
    "**There are only afew outliers in the data, hence we will not use any feature engineering techniques to deal with them in order to keep noise in the data.**"
   ]
  },
  {
   "attachments": {},
   "cell_type": "markdown",
   "metadata": {},
   "source": [
    "### Feature engineering and Data Cleaning"
   ]
  },
  {
   "attachments": {},
   "cell_type": "markdown",
   "metadata": {},
   "source": [
    "##### Looking at the data, I suspected that some date columns have the same value stored in them for all the users. \n",
    "\n",
    "**Let's make sure this is correct by visualizing these columns**"
   ]
  },
  {
   "cell_type": "code",
   "execution_count": 13,
   "metadata": {},
   "outputs": [
    {
     "data": {
      "text/plain": [
       "<Axes: ylabel='difference'>"
      ]
     },
     "execution_count": 13,
     "metadata": {},
     "output_type": "execute_result"
    },
    {
     "data": {
      "image/png": "[encoded data removed]",
      "text/plain": [
       "<Figure size 640x480 with 1 Axes>"
      ]
     },
     "metadata": {},
     "output_type": "display_data"
    }
   ],
   "source": [
    "# Converting the date columns into datetime type\n",
    "df['CreatedDate_x'] = pd.to_datetime(df['CreatedDate_x'])\n",
    "df['StartDate'] = pd.to_datetime(df['StartDate'])\n",
    "\n",
    "# Finding the difference between each row in both columns to identify if they're same or not\n",
    "df['difference'] = df['CreatedDate_x'] - df['StartDate']\n",
    "df['difference'].value_counts().plot(kind='barh')"
   ]
  },
  {
   "attachments": {},
   "cell_type": "markdown",
   "metadata": {},
   "source": [
    "#####  Treatement StartDate and User CreateDate have the same values. Hence, we will only keep one of those columns in the data\n"
   ]
  },
  {
   "attachments": {},
   "cell_type": "markdown",
   "metadata": {},
   "source": [
    "##### Now looking at Create date and update date from the weights dataset"
   ]
  },
  {
   "cell_type": "code",
   "execution_count": 14,
   "metadata": {},
   "outputs": [
    {
     "data": {
      "text/plain": [
       "<Axes: ylabel='difference2'>"
      ]
     },
     "execution_count": 14,
     "metadata": {},
     "output_type": "execute_result"
    },
    {
     "data": {
      "image/png": "[encoded data removed]",
      "text/plain": [
       "<Figure size 640x480 with 1 Axes>"
      ]
     },
     "metadata": {},
     "output_type": "display_data"
    }
   ],
   "source": [
    "# Converting the date columns into datetime type\n",
    "df['CreatedDate_y'] = pd.to_datetime(df['CreatedDate_y'])\n",
    "df['UpdatedDate'] = pd.to_datetime(df['UpdatedDate'])\n",
    "\n",
    "# Finding the difference between each row in both columns to identify if they're same or not\n",
    "df['difference2'] = df['CreatedDate_y'] - df['UpdatedDate']\n",
    "df['difference2'].value_counts().plot(kind='barh')"
   ]
  },
  {
   "attachments": {},
   "cell_type": "markdown",
   "metadata": {},
   "source": [
    "##### From the Weights data, CreateDate and UpdateDate have the same values for all the rows. Hence, we will only keep one of those columns"
   ]
  },
  {
   "cell_type": "code",
   "execution_count": 15,
   "metadata": {},
   "outputs": [],
   "source": [
    "# dropping the date columns as per reason described above \n",
    "df = df.drop('CreatedDate_x', axis = 1) # UserCreate date is dropped (StartDate is kept)\n",
    "df = df.drop('CreatedDate_y', axis = 1) # UserCreate date is dropped from weights data (UpdateDate is kept)"
   ]
  },
  {
   "attachments": {},
   "cell_type": "markdown",
   "metadata": {},
   "source": [
    "##### Extracting more information about columns in the data"
   ]
  },
  {
   "cell_type": "code",
   "execution_count": 16,
   "metadata": {},
   "outputs": [
    {
     "name": "stdout",
     "output_type": "stream",
     "text": [
      "<class 'pandas.core.frame.DataFrame'>\n",
      "RangeIndex: 32073 entries, 0 to 32072\n",
      "Data columns (total 27 columns):\n",
      " #   Column           Non-Null Count  Dtype          \n",
      "---  ------           --------------  -----          \n",
      " 0   MasterUserID     32073 non-null  object         \n",
      " 1   Name             32073 non-null  object         \n",
      " 2   LastName         32073 non-null  object         \n",
      " 3   Gender           32073 non-null  object         \n",
      " 4   Unit             32073 non-null  int64          \n",
      " 5   Birthday         32073 non-null  object         \n",
      " 6   Age              32073 non-null  int64          \n",
      " 7   Height           32073 non-null  int64          \n",
      " 8   IsActive_x       32073 non-null  bool           \n",
      " 9   ClinicID         32073 non-null  int64          \n",
      " 10  loginId          0 non-null      float64        \n",
      " 11  success          32073 non-null  bool           \n",
      " 12  Weight           32073 non-null  float64        \n",
      " 13  BMI              32073 non-null  float64        \n",
      " 14  BodyFat          32073 non-null  float64        \n",
      " 15  BodyWater        32073 non-null  float64        \n",
      " 16  Bone             32073 non-null  float64        \n",
      " 17  VisceralFat      32073 non-null  float64        \n",
      " 18  BMR              32073 non-null  float64        \n",
      " 19  MuscleMass       32073 non-null  float64        \n",
      " 20  UpdatedDate      32073 non-null  datetime64[ns] \n",
      " 21  IsActive_y       32073 non-null  bool           \n",
      " 22  IsDelete         32073 non-null  bool           \n",
      " 23  TreatmentTypeID  32073 non-null  int64          \n",
      " 24  StartDate        32073 non-null  datetime64[ns] \n",
      " 25  difference       32073 non-null  timedelta64[ns]\n",
      " 26  difference2      32073 non-null  timedelta64[ns]\n",
      "dtypes: bool(4), datetime64[ns](2), float64(9), int64(5), object(5), timedelta64[ns](2)\n",
      "memory usage: 5.8+ MB\n"
     ]
    }
   ],
   "source": [
    "df.info()"
   ]
  },
  {
   "attachments": {},
   "cell_type": "markdown",
   "metadata": {},
   "source": [
    "##### Loginid column have all Nan value, hence it will be dropped as it adds no value to the data "
   ]
  },
  {
   "cell_type": "code",
   "execution_count": 17,
   "metadata": {},
   "outputs": [
    {
     "name": "stdout",
     "output_type": "stream",
     "text": [
      "<class 'pandas.core.frame.DataFrame'>\n",
      "RangeIndex: 32073 entries, 0 to 32072\n",
      "Data columns (total 26 columns):\n",
      " #   Column           Non-Null Count  Dtype          \n",
      "---  ------           --------------  -----          \n",
      " 0   MasterUserID     32073 non-null  object         \n",
      " 1   Name             32073 non-null  object         \n",
      " 2   LastName         32073 non-null  object         \n",
      " 3   Gender           32073 non-null  object         \n",
      " 4   Unit             32073 non-null  int64          \n",
      " 5   Birthday         32073 non-null  object         \n",
      " 6   Age              32073 non-null  int64          \n",
      " 7   Height           32073 non-null  int64          \n",
      " 8   IsActive_x       32073 non-null  bool           \n",
      " 9   ClinicID         32073 non-null  int64          \n",
      " 10  success          32073 non-null  bool           \n",
      " 11  Weight           32073 non-null  float64        \n",
      " 12  BMI              32073 non-null  float64        \n",
      " 13  BodyFat          32073 non-null  float64        \n",
      " 14  BodyWater        32073 non-null  float64        \n",
      " 15  Bone             32073 non-null  float64        \n",
      " 16  VisceralFat      32073 non-null  float64        \n",
      " 17  BMR              32073 non-null  float64        \n",
      " 18  MuscleMass       32073 non-null  float64        \n",
      " 19  UpdatedDate      32073 non-null  datetime64[ns] \n",
      " 20  IsActive_y       32073 non-null  bool           \n",
      " 21  IsDelete         32073 non-null  bool           \n",
      " 22  TreatmentTypeID  32073 non-null  int64          \n",
      " 23  StartDate        32073 non-null  datetime64[ns] \n",
      " 24  difference       32073 non-null  timedelta64[ns]\n",
      " 25  difference2      32073 non-null  timedelta64[ns]\n",
      "dtypes: bool(4), datetime64[ns](2), float64(8), int64(5), object(5), timedelta64[ns](2)\n",
      "memory usage: 5.5+ MB\n"
     ]
    }
   ],
   "source": [
    "# removing the column \n",
    "df = df.drop('loginId', axis = 1)\n",
    "df.info()"
   ]
  },
  {
   "attachments": {},
   "cell_type": "markdown",
   "metadata": {},
   "source": [
    "##### Identifying if any column have the same unique value for all the rows "
   ]
  },
  {
   "cell_type": "code",
   "execution_count": 18,
   "metadata": {},
   "outputs": [
    {
     "data": {
      "text/plain": [
       "Index(['IsActive_x', 'ClinicID', 'IsActive_y', 'IsDelete', 'TreatmentTypeID',\n",
       "       'difference', 'difference2'],\n",
       "      dtype='object')"
      ]
     },
     "execution_count": 18,
     "metadata": {},
     "output_type": "execute_result"
    }
   ],
   "source": [
    "nunique = df.nunique()\n",
    "\n",
    "# Extracting column names that meets the condition stated above \n",
    "cols_to_drop = nunique[nunique == 1].index\n",
    "cols_to_drop"
   ]
  },
  {
   "attachments": {},
   "cell_type": "markdown",
   "metadata": {},
   "source": [
    "##### The above columns have only one unique value for all rows. They wont provide any extra information about how each point is different from another point in the data. Hence, they will be useless to incldue in the ML model \n"
   ]
  },
  {
   "cell_type": "code",
   "execution_count": 19,
   "metadata": {},
   "outputs": [
    {
     "name": "stdout",
     "output_type": "stream",
     "text": [
      "<class 'pandas.core.frame.DataFrame'>\n",
      "RangeIndex: 32073 entries, 0 to 32072\n",
      "Data columns (total 19 columns):\n",
      " #   Column        Non-Null Count  Dtype         \n",
      "---  ------        --------------  -----         \n",
      " 0   MasterUserID  32073 non-null  object        \n",
      " 1   Name          32073 non-null  object        \n",
      " 2   LastName      32073 non-null  object        \n",
      " 3   Gender        32073 non-null  object        \n",
      " 4   Unit          32073 non-null  int64         \n",
      " 5   Birthday      32073 non-null  object        \n",
      " 6   Age           32073 non-null  int64         \n",
      " 7   Height        32073 non-null  int64         \n",
      " 8   success       32073 non-null  bool          \n",
      " 9   Weight        32073 non-null  float64       \n",
      " 10  BMI           32073 non-null  float64       \n",
      " 11  BodyFat       32073 non-null  float64       \n",
      " 12  BodyWater     32073 non-null  float64       \n",
      " 13  Bone          32073 non-null  float64       \n",
      " 14  VisceralFat   32073 non-null  float64       \n",
      " 15  BMR           32073 non-null  float64       \n",
      " 16  MuscleMass    32073 non-null  float64       \n",
      " 17  UpdatedDate   32073 non-null  datetime64[ns]\n",
      " 18  StartDate     32073 non-null  datetime64[ns]\n",
      "dtypes: bool(1), datetime64[ns](2), float64(8), int64(3), object(5)\n",
      "memory usage: 4.4+ MB\n"
     ]
    }
   ],
   "source": [
    "# Dropping the above columns\n",
    "df = df.drop(cols_to_drop, axis=1)\n",
    "df.info()"
   ]
  },
  {
   "attachments": {},
   "cell_type": "markdown",
   "metadata": {},
   "source": [
    "##### We will also drop birthday column as we have age of patient already in dataset\n",
    "\n",
    "**Note:** \n",
    "This will reduce any potential mulicolinearity issues in the model"
   ]
  },
  {
   "cell_type": "code",
   "execution_count": 20,
   "metadata": {},
   "outputs": [],
   "source": [
    "# We will also drop birthday column as we have age of patient already in dataset\n",
    "df = df.drop('Birthday', axis=1)"
   ]
  },
  {
   "cell_type": "code",
   "execution_count": 21,
   "metadata": {},
   "outputs": [
    {
     "name": "stdout",
     "output_type": "stream",
     "text": [
      "<class 'pandas.core.frame.DataFrame'>\n",
      "RangeIndex: 32073 entries, 0 to 32072\n",
      "Data columns (total 18 columns):\n",
      " #   Column        Non-Null Count  Dtype         \n",
      "---  ------        --------------  -----         \n",
      " 0   MasterUserID  32073 non-null  object        \n",
      " 1   Name          32073 non-null  object        \n",
      " 2   LastName      32073 non-null  object        \n",
      " 3   Gender        32073 non-null  object        \n",
      " 4   Unit          32073 non-null  int64         \n",
      " 5   Age           32073 non-null  int64         \n",
      " 6   Height        32073 non-null  int64         \n",
      " 7   success       32073 non-null  bool          \n",
      " 8   Weight        32073 non-null  float64       \n",
      " 9   BMI           32073 non-null  float64       \n",
      " 10  BodyFat       32073 non-null  float64       \n",
      " 11  BodyWater     32073 non-null  float64       \n",
      " 12  Bone          32073 non-null  float64       \n",
      " 13  VisceralFat   32073 non-null  float64       \n",
      " 14  BMR           32073 non-null  float64       \n",
      " 15  MuscleMass    32073 non-null  float64       \n",
      " 16  UpdatedDate   32073 non-null  datetime64[ns]\n",
      " 17  StartDate     32073 non-null  datetime64[ns]\n",
      "dtypes: bool(1), datetime64[ns](2), float64(8), int64(3), object(4)\n",
      "memory usage: 4.2+ MB\n"
     ]
    }
   ],
   "source": [
    "df.info()"
   ]
  },
  {
   "attachments": {},
   "cell_type": "markdown",
   "metadata": {},
   "source": [
    "##### Now, we will utilize more feature engineering techniques to increase the potential performace of Machine Learning model. \n",
    "\n",
    "**Sorting the data by UpdateDate in chronological order for each patient (Sort by Date, GroupBy UserID)**\n"
   ]
  },
  {
   "cell_type": "code",
   "execution_count": 22,
   "metadata": {},
   "outputs": [],
   "source": [
    "# Sorting the data \n",
    "df = df.sort_values(['MasterUserID', 'UpdatedDate'])"
   ]
  },
  {
   "attachments": {},
   "cell_type": "markdown",
   "metadata": {},
   "source": [
    "##### Creating a new column to calculate TBWL of each person over time "
   ]
  },
  {
   "cell_type": "code",
   "execution_count": 23,
   "metadata": {},
   "outputs": [
    {
     "data": {
      "text/html": [
       "<div>\n",
       "<style scoped>\n",
       "    .dataframe tbody tr th:only-of-type {\n",
       "        vertical-align: middle;\n",
       "    }\n",
       "\n",
       "    .dataframe tbody tr th {\n",
       "        vertical-align: top;\n",
       "    }\n",
       "\n",
       "    .dataframe thead th {\n",
       "        text-align: right;\n",
       "    }\n",
       "</style>\n",
       "<table border=\"1\" class=\"dataframe\">\n",
       "  <thead>\n",
       "    <tr style=\"text-align: right;\">\n",
       "      <th></th>\n",
       "      <th>MasterUserID</th>\n",
       "      <th>Name</th>\n",
       "      <th>LastName</th>\n",
       "      <th>Gender</th>\n",
       "      <th>Unit</th>\n",
       "      <th>Age</th>\n",
       "      <th>Height</th>\n",
       "      <th>success</th>\n",
       "      <th>Weight</th>\n",
       "      <th>BMI</th>\n",
       "      <th>BodyFat</th>\n",
       "      <th>BodyWater</th>\n",
       "      <th>Bone</th>\n",
       "      <th>VisceralFat</th>\n",
       "      <th>BMR</th>\n",
       "      <th>MuscleMass</th>\n",
       "      <th>UpdatedDate</th>\n",
       "      <th>StartDate</th>\n",
       "      <th>TBWL</th>\n",
       "    </tr>\n",
       "  </thead>\n",
       "  <tbody>\n",
       "    <tr>\n",
       "      <th>10192</th>\n",
       "      <td>004af604-1a06-11ee-a492-eaf1cf2ff621</td>\n",
       "      <td>Cindy</td>\n",
       "      <td>Hartman</td>\n",
       "      <td>Female</td>\n",
       "      <td>1</td>\n",
       "      <td>59</td>\n",
       "      <td>162</td>\n",
       "      <td>True</td>\n",
       "      <td>87.4</td>\n",
       "      <td>33.3</td>\n",
       "      <td>37.1</td>\n",
       "      <td>41.6</td>\n",
       "      <td>2.9</td>\n",
       "      <td>9.7</td>\n",
       "      <td>1502.0</td>\n",
       "      <td>47.4</td>\n",
       "      <td>2023-04-18 18:54:42</td>\n",
       "      <td>2023-04-16 18:54:42</td>\n",
       "      <td>0.000000</td>\n",
       "    </tr>\n",
       "    <tr>\n",
       "      <th>10189</th>\n",
       "      <td>004af604-1a06-11ee-a492-eaf1cf2ff621</td>\n",
       "      <td>Cindy</td>\n",
       "      <td>Hartman</td>\n",
       "      <td>Female</td>\n",
       "      <td>1</td>\n",
       "      <td>59</td>\n",
       "      <td>162</td>\n",
       "      <td>True</td>\n",
       "      <td>84.9</td>\n",
       "      <td>32.4</td>\n",
       "      <td>36.4</td>\n",
       "      <td>41.7</td>\n",
       "      <td>3.0</td>\n",
       "      <td>9.3</td>\n",
       "      <td>1479.2</td>\n",
       "      <td>46.4</td>\n",
       "      <td>2023-04-26 18:54:42</td>\n",
       "      <td>2023-04-16 18:54:42</td>\n",
       "      <td>2.860412</td>\n",
       "    </tr>\n",
       "    <tr>\n",
       "      <th>10196</th>\n",
       "      <td>004af604-1a06-11ee-a492-eaf1cf2ff621</td>\n",
       "      <td>Cindy</td>\n",
       "      <td>Hartman</td>\n",
       "      <td>Female</td>\n",
       "      <td>1</td>\n",
       "      <td>59</td>\n",
       "      <td>162</td>\n",
       "      <td>True</td>\n",
       "      <td>85.7</td>\n",
       "      <td>32.7</td>\n",
       "      <td>35.6</td>\n",
       "      <td>41.8</td>\n",
       "      <td>3.0</td>\n",
       "      <td>9.3</td>\n",
       "      <td>1486.9</td>\n",
       "      <td>46.3</td>\n",
       "      <td>2023-05-01 18:54:42</td>\n",
       "      <td>2023-04-16 18:54:42</td>\n",
       "      <td>1.945080</td>\n",
       "    </tr>\n",
       "    <tr>\n",
       "      <th>10199</th>\n",
       "      <td>004af604-1a06-11ee-a492-eaf1cf2ff621</td>\n",
       "      <td>Cindy</td>\n",
       "      <td>Hartman</td>\n",
       "      <td>Female</td>\n",
       "      <td>1</td>\n",
       "      <td>59</td>\n",
       "      <td>162</td>\n",
       "      <td>True</td>\n",
       "      <td>84.6</td>\n",
       "      <td>32.2</td>\n",
       "      <td>34.6</td>\n",
       "      <td>41.9</td>\n",
       "      <td>3.0</td>\n",
       "      <td>9.3</td>\n",
       "      <td>1476.0</td>\n",
       "      <td>46.0</td>\n",
       "      <td>2023-05-05 18:54:42</td>\n",
       "      <td>2023-04-16 18:54:42</td>\n",
       "      <td>3.203661</td>\n",
       "    </tr>\n",
       "    <tr>\n",
       "      <th>10203</th>\n",
       "      <td>004af604-1a06-11ee-a492-eaf1cf2ff621</td>\n",
       "      <td>Cindy</td>\n",
       "      <td>Hartman</td>\n",
       "      <td>Female</td>\n",
       "      <td>1</td>\n",
       "      <td>59</td>\n",
       "      <td>162</td>\n",
       "      <td>True</td>\n",
       "      <td>84.8</td>\n",
       "      <td>32.3</td>\n",
       "      <td>31.1</td>\n",
       "      <td>42.7</td>\n",
       "      <td>3.1</td>\n",
       "      <td>9.3</td>\n",
       "      <td>1478.2</td>\n",
       "      <td>45.5</td>\n",
       "      <td>2023-05-12 18:54:42</td>\n",
       "      <td>2023-04-16 18:54:42</td>\n",
       "      <td>2.974828</td>\n",
       "    </tr>\n",
       "  </tbody>\n",
       "</table>\n",
       "</div>"
      ],
      "text/plain": [
       "                               MasterUserID   Name LastName  Gender  Unit  \\\n",
       "10192  004af604-1a06-11ee-a492-eaf1cf2ff621  Cindy  Hartman  Female     1   \n",
       "10189  004af604-1a06-11ee-a492-eaf1cf2ff621  Cindy  Hartman  Female     1   \n",
       "10196  004af604-1a06-11ee-a492-eaf1cf2ff621  Cindy  Hartman  Female     1   \n",
       "10199  004af604-1a06-11ee-a492-eaf1cf2ff621  Cindy  Hartman  Female     1   \n",
       "10203  004af604-1a06-11ee-a492-eaf1cf2ff621  Cindy  Hartman  Female     1   \n",
       "\n",
       "       Age  Height  success  Weight   BMI  BodyFat  BodyWater  Bone  \\\n",
       "10192   59     162     True    87.4  33.3     37.1       41.6   2.9   \n",
       "10189   59     162     True    84.9  32.4     36.4       41.7   3.0   \n",
       "10196   59     162     True    85.7  32.7     35.6       41.8   3.0   \n",
       "10199   59     162     True    84.6  32.2     34.6       41.9   3.0   \n",
       "10203   59     162     True    84.8  32.3     31.1       42.7   3.1   \n",
       "\n",
       "       VisceralFat     BMR  MuscleMass         UpdatedDate  \\\n",
       "10192          9.7  1502.0        47.4 2023-04-18 18:54:42   \n",
       "10189          9.3  1479.2        46.4 2023-04-26 18:54:42   \n",
       "10196          9.3  1486.9        46.3 2023-05-01 18:54:42   \n",
       "10199          9.3  1476.0        46.0 2023-05-05 18:54:42   \n",
       "10203          9.3  1478.2        45.5 2023-05-12 18:54:42   \n",
       "\n",
       "                StartDate      TBWL  \n",
       "10192 2023-04-16 18:54:42  0.000000  \n",
       "10189 2023-04-16 18:54:42  2.860412  \n",
       "10196 2023-04-16 18:54:42  1.945080  \n",
       "10199 2023-04-16 18:54:42  3.203661  \n",
       "10203 2023-04-16 18:54:42  2.974828  "
      ]
     },
     "execution_count": 23,
     "metadata": {},
     "output_type": "execute_result"
    }
   ],
   "source": [
    "# Group by userId, and using the formula for TBWL found on internet to calculate the metric \n",
    "result = df.groupby('MasterUserID')['Weight'].apply(lambda x: ( ( (x.iloc[0] - x) / x.iloc[0] ) * 100  ))\n",
    "df['TBWL'] = result.droplevel(0) \n",
    "df.head()"
   ]
  },
  {
   "attachments": {},
   "cell_type": "markdown",
   "metadata": {},
   "source": [
    "##### Creating a new day-difference column that calculates the amount of days spent by each patinet on treatement"
   ]
  },
  {
   "cell_type": "code",
   "execution_count": 24,
   "metadata": {},
   "outputs": [
    {
     "data": {
      "text/html": [
       "<div>\n",
       "<style scoped>\n",
       "    .dataframe tbody tr th:only-of-type {\n",
       "        vertical-align: middle;\n",
       "    }\n",
       "\n",
       "    .dataframe tbody tr th {\n",
       "        vertical-align: top;\n",
       "    }\n",
       "\n",
       "    .dataframe thead th {\n",
       "        text-align: right;\n",
       "    }\n",
       "</style>\n",
       "<table border=\"1\" class=\"dataframe\">\n",
       "  <thead>\n",
       "    <tr style=\"text-align: right;\">\n",
       "      <th></th>\n",
       "      <th>MasterUserID</th>\n",
       "      <th>Name</th>\n",
       "      <th>LastName</th>\n",
       "      <th>Gender</th>\n",
       "      <th>Unit</th>\n",
       "      <th>Age</th>\n",
       "      <th>Height</th>\n",
       "      <th>success</th>\n",
       "      <th>Weight</th>\n",
       "      <th>BMI</th>\n",
       "      <th>BodyFat</th>\n",
       "      <th>BodyWater</th>\n",
       "      <th>Bone</th>\n",
       "      <th>VisceralFat</th>\n",
       "      <th>BMR</th>\n",
       "      <th>MuscleMass</th>\n",
       "      <th>UpdatedDate</th>\n",
       "      <th>StartDate</th>\n",
       "      <th>TBWL</th>\n",
       "      <th>DayDiff</th>\n",
       "    </tr>\n",
       "  </thead>\n",
       "  <tbody>\n",
       "    <tr>\n",
       "      <th>10192</th>\n",
       "      <td>004af604-1a06-11ee-a492-eaf1cf2ff621</td>\n",
       "      <td>Cindy</td>\n",
       "      <td>Hartman</td>\n",
       "      <td>Female</td>\n",
       "      <td>1</td>\n",
       "      <td>59</td>\n",
       "      <td>162</td>\n",
       "      <td>True</td>\n",
       "      <td>87.4</td>\n",
       "      <td>33.3</td>\n",
       "      <td>37.1</td>\n",
       "      <td>41.6</td>\n",
       "      <td>2.9</td>\n",
       "      <td>9.7</td>\n",
       "      <td>1502.0</td>\n",
       "      <td>47.4</td>\n",
       "      <td>2023-04-18 18:54:42</td>\n",
       "      <td>2023-04-16 18:54:42</td>\n",
       "      <td>0.000000</td>\n",
       "      <td>0</td>\n",
       "    </tr>\n",
       "    <tr>\n",
       "      <th>10189</th>\n",
       "      <td>004af604-1a06-11ee-a492-eaf1cf2ff621</td>\n",
       "      <td>Cindy</td>\n",
       "      <td>Hartman</td>\n",
       "      <td>Female</td>\n",
       "      <td>1</td>\n",
       "      <td>59</td>\n",
       "      <td>162</td>\n",
       "      <td>True</td>\n",
       "      <td>84.9</td>\n",
       "      <td>32.4</td>\n",
       "      <td>36.4</td>\n",
       "      <td>41.7</td>\n",
       "      <td>3.0</td>\n",
       "      <td>9.3</td>\n",
       "      <td>1479.2</td>\n",
       "      <td>46.4</td>\n",
       "      <td>2023-04-26 18:54:42</td>\n",
       "      <td>2023-04-16 18:54:42</td>\n",
       "      <td>2.860412</td>\n",
       "      <td>8</td>\n",
       "    </tr>\n",
       "    <tr>\n",
       "      <th>10196</th>\n",
       "      <td>004af604-1a06-11ee-a492-eaf1cf2ff621</td>\n",
       "      <td>Cindy</td>\n",
       "      <td>Hartman</td>\n",
       "      <td>Female</td>\n",
       "      <td>1</td>\n",
       "      <td>59</td>\n",
       "      <td>162</td>\n",
       "      <td>True</td>\n",
       "      <td>85.7</td>\n",
       "      <td>32.7</td>\n",
       "      <td>35.6</td>\n",
       "      <td>41.8</td>\n",
       "      <td>3.0</td>\n",
       "      <td>9.3</td>\n",
       "      <td>1486.9</td>\n",
       "      <td>46.3</td>\n",
       "      <td>2023-05-01 18:54:42</td>\n",
       "      <td>2023-04-16 18:54:42</td>\n",
       "      <td>1.945080</td>\n",
       "      <td>13</td>\n",
       "    </tr>\n",
       "    <tr>\n",
       "      <th>10199</th>\n",
       "      <td>004af604-1a06-11ee-a492-eaf1cf2ff621</td>\n",
       "      <td>Cindy</td>\n",
       "      <td>Hartman</td>\n",
       "      <td>Female</td>\n",
       "      <td>1</td>\n",
       "      <td>59</td>\n",
       "      <td>162</td>\n",
       "      <td>True</td>\n",
       "      <td>84.6</td>\n",
       "      <td>32.2</td>\n",
       "      <td>34.6</td>\n",
       "      <td>41.9</td>\n",
       "      <td>3.0</td>\n",
       "      <td>9.3</td>\n",
       "      <td>1476.0</td>\n",
       "      <td>46.0</td>\n",
       "      <td>2023-05-05 18:54:42</td>\n",
       "      <td>2023-04-16 18:54:42</td>\n",
       "      <td>3.203661</td>\n",
       "      <td>17</td>\n",
       "    </tr>\n",
       "    <tr>\n",
       "      <th>10203</th>\n",
       "      <td>004af604-1a06-11ee-a492-eaf1cf2ff621</td>\n",
       "      <td>Cindy</td>\n",
       "      <td>Hartman</td>\n",
       "      <td>Female</td>\n",
       "      <td>1</td>\n",
       "      <td>59</td>\n",
       "      <td>162</td>\n",
       "      <td>True</td>\n",
       "      <td>84.8</td>\n",
       "      <td>32.3</td>\n",
       "      <td>31.1</td>\n",
       "      <td>42.7</td>\n",
       "      <td>3.1</td>\n",
       "      <td>9.3</td>\n",
       "      <td>1478.2</td>\n",
       "      <td>45.5</td>\n",
       "      <td>2023-05-12 18:54:42</td>\n",
       "      <td>2023-04-16 18:54:42</td>\n",
       "      <td>2.974828</td>\n",
       "      <td>24</td>\n",
       "    </tr>\n",
       "  </tbody>\n",
       "</table>\n",
       "</div>"
      ],
      "text/plain": [
       "                               MasterUserID   Name LastName  Gender  Unit  \\\n",
       "10192  004af604-1a06-11ee-a492-eaf1cf2ff621  Cindy  Hartman  Female     1   \n",
       "10189  004af604-1a06-11ee-a492-eaf1cf2ff621  Cindy  Hartman  Female     1   \n",
       "10196  004af604-1a06-11ee-a492-eaf1cf2ff621  Cindy  Hartman  Female     1   \n",
       "10199  004af604-1a06-11ee-a492-eaf1cf2ff621  Cindy  Hartman  Female     1   \n",
       "10203  004af604-1a06-11ee-a492-eaf1cf2ff621  Cindy  Hartman  Female     1   \n",
       "\n",
       "       Age  Height  success  Weight   BMI  BodyFat  BodyWater  Bone  \\\n",
       "10192   59     162     True    87.4  33.3     37.1       41.6   2.9   \n",
       "10189   59     162     True    84.9  32.4     36.4       41.7   3.0   \n",
       "10196   59     162     True    85.7  32.7     35.6       41.8   3.0   \n",
       "10199   59     162     True    84.6  32.2     34.6       41.9   3.0   \n",
       "10203   59     162     True    84.8  32.3     31.1       42.7   3.1   \n",
       "\n",
       "       VisceralFat     BMR  MuscleMass         UpdatedDate  \\\n",
       "10192          9.7  1502.0        47.4 2023-04-18 18:54:42   \n",
       "10189          9.3  1479.2        46.4 2023-04-26 18:54:42   \n",
       "10196          9.3  1486.9        46.3 2023-05-01 18:54:42   \n",
       "10199          9.3  1476.0        46.0 2023-05-05 18:54:42   \n",
       "10203          9.3  1478.2        45.5 2023-05-12 18:54:42   \n",
       "\n",
       "                StartDate      TBWL  DayDiff  \n",
       "10192 2023-04-16 18:54:42  0.000000        0  \n",
       "10189 2023-04-16 18:54:42  2.860412        8  \n",
       "10196 2023-04-16 18:54:42  1.945080       13  \n",
       "10199 2023-04-16 18:54:42  3.203661       17  \n",
       "10203 2023-04-16 18:54:42  2.974828       24  "
      ]
     },
     "execution_count": 24,
     "metadata": {},
     "output_type": "execute_result"
    }
   ],
   "source": [
    "# Calculating difference \n",
    "result = df.groupby('MasterUserID')['UpdatedDate'].apply(lambda x: (  (x - x.iloc[0])  ))\n",
    "df['DayDiff'] = result.droplevel(0) \n",
    "\n",
    "# Converting the column to integer and removing the unnecesary string\n",
    "df['DayDiff'] = df['DayDiff'].astype('string')\n",
    "df['DayDiff'] = df['DayDiff'].str.split(\" \").str[0]\n",
    "df['DayDiff'] = df['DayDiff'].astype('int')\n",
    "df.head()"
   ]
  },
  {
   "attachments": {},
   "cell_type": "markdown",
   "metadata": {},
   "source": [
    "##### Now that we calculated day difference between each record, we can drop the UpdatedDate column. We will also drop the StartDate column because the updatedate column is ALWAYS 2 days after StartDate for each patient. (As seen from visualizing the data) "
   ]
  },
  {
   "cell_type": "code",
   "execution_count": 25,
   "metadata": {},
   "outputs": [],
   "source": [
    "# dropping the date columns as per reason described above \n",
    "df = df.drop('UpdatedDate', axis = 1)\n",
    "df = df.drop('StartDate', axis = 1) "
   ]
  },
  {
   "attachments": {},
   "cell_type": "markdown",
   "metadata": {},
   "source": [
    "##### Name columns and MasterUserID will also be dropped because we have already sorted the data to store each patients information in chronological order. \n",
    "\n",
    "**NOTE:**\n",
    "\n",
    "**Keeping these columns in the data will lead to us creating dummy variables for each patient during model building phase. \n",
    "(This will increase the dimensionality of our data, which will impact the score of the model)**"
   ]
  },
  {
   "cell_type": "code",
   "execution_count": 26,
   "metadata": {},
   "outputs": [
    {
     "data": {
      "text/html": [
       "<div>\n",
       "<style scoped>\n",
       "    .dataframe tbody tr th:only-of-type {\n",
       "        vertical-align: middle;\n",
       "    }\n",
       "\n",
       "    .dataframe tbody tr th {\n",
       "        vertical-align: top;\n",
       "    }\n",
       "\n",
       "    .dataframe thead th {\n",
       "        text-align: right;\n",
       "    }\n",
       "</style>\n",
       "<table border=\"1\" class=\"dataframe\">\n",
       "  <thead>\n",
       "    <tr style=\"text-align: right;\">\n",
       "      <th></th>\n",
       "      <th>Gender</th>\n",
       "      <th>Unit</th>\n",
       "      <th>Age</th>\n",
       "      <th>Height</th>\n",
       "      <th>success</th>\n",
       "      <th>Weight</th>\n",
       "      <th>BMI</th>\n",
       "      <th>BodyFat</th>\n",
       "      <th>BodyWater</th>\n",
       "      <th>Bone</th>\n",
       "      <th>VisceralFat</th>\n",
       "      <th>BMR</th>\n",
       "      <th>MuscleMass</th>\n",
       "      <th>TBWL</th>\n",
       "      <th>DayDiff</th>\n",
       "    </tr>\n",
       "  </thead>\n",
       "  <tbody>\n",
       "    <tr>\n",
       "      <th>10192</th>\n",
       "      <td>Female</td>\n",
       "      <td>1</td>\n",
       "      <td>59</td>\n",
       "      <td>162</td>\n",
       "      <td>True</td>\n",
       "      <td>87.4</td>\n",
       "      <td>33.3</td>\n",
       "      <td>37.1</td>\n",
       "      <td>41.6</td>\n",
       "      <td>2.9</td>\n",
       "      <td>9.7</td>\n",
       "      <td>1502.0</td>\n",
       "      <td>47.4</td>\n",
       "      <td>0.000000</td>\n",
       "      <td>0</td>\n",
       "    </tr>\n",
       "    <tr>\n",
       "      <th>10189</th>\n",
       "      <td>Female</td>\n",
       "      <td>1</td>\n",
       "      <td>59</td>\n",
       "      <td>162</td>\n",
       "      <td>True</td>\n",
       "      <td>84.9</td>\n",
       "      <td>32.4</td>\n",
       "      <td>36.4</td>\n",
       "      <td>41.7</td>\n",
       "      <td>3.0</td>\n",
       "      <td>9.3</td>\n",
       "      <td>1479.2</td>\n",
       "      <td>46.4</td>\n",
       "      <td>2.860412</td>\n",
       "      <td>8</td>\n",
       "    </tr>\n",
       "    <tr>\n",
       "      <th>10196</th>\n",
       "      <td>Female</td>\n",
       "      <td>1</td>\n",
       "      <td>59</td>\n",
       "      <td>162</td>\n",
       "      <td>True</td>\n",
       "      <td>85.7</td>\n",
       "      <td>32.7</td>\n",
       "      <td>35.6</td>\n",
       "      <td>41.8</td>\n",
       "      <td>3.0</td>\n",
       "      <td>9.3</td>\n",
       "      <td>1486.9</td>\n",
       "      <td>46.3</td>\n",
       "      <td>1.945080</td>\n",
       "      <td>13</td>\n",
       "    </tr>\n",
       "    <tr>\n",
       "      <th>10199</th>\n",
       "      <td>Female</td>\n",
       "      <td>1</td>\n",
       "      <td>59</td>\n",
       "      <td>162</td>\n",
       "      <td>True</td>\n",
       "      <td>84.6</td>\n",
       "      <td>32.2</td>\n",
       "      <td>34.6</td>\n",
       "      <td>41.9</td>\n",
       "      <td>3.0</td>\n",
       "      <td>9.3</td>\n",
       "      <td>1476.0</td>\n",
       "      <td>46.0</td>\n",
       "      <td>3.203661</td>\n",
       "      <td>17</td>\n",
       "    </tr>\n",
       "    <tr>\n",
       "      <th>10203</th>\n",
       "      <td>Female</td>\n",
       "      <td>1</td>\n",
       "      <td>59</td>\n",
       "      <td>162</td>\n",
       "      <td>True</td>\n",
       "      <td>84.8</td>\n",
       "      <td>32.3</td>\n",
       "      <td>31.1</td>\n",
       "      <td>42.7</td>\n",
       "      <td>3.1</td>\n",
       "      <td>9.3</td>\n",
       "      <td>1478.2</td>\n",
       "      <td>45.5</td>\n",
       "      <td>2.974828</td>\n",
       "      <td>24</td>\n",
       "    </tr>\n",
       "  </tbody>\n",
       "</table>\n",
       "</div>"
      ],
      "text/plain": [
       "       Gender  Unit  Age  Height  success  Weight   BMI  BodyFat  BodyWater  \\\n",
       "10192  Female     1   59     162     True    87.4  33.3     37.1       41.6   \n",
       "10189  Female     1   59     162     True    84.9  32.4     36.4       41.7   \n",
       "10196  Female     1   59     162     True    85.7  32.7     35.6       41.8   \n",
       "10199  Female     1   59     162     True    84.6  32.2     34.6       41.9   \n",
       "10203  Female     1   59     162     True    84.8  32.3     31.1       42.7   \n",
       "\n",
       "       Bone  VisceralFat     BMR  MuscleMass      TBWL  DayDiff  \n",
       "10192   2.9          9.7  1502.0        47.4  0.000000        0  \n",
       "10189   3.0          9.3  1479.2        46.4  2.860412        8  \n",
       "10196   3.0          9.3  1486.9        46.3  1.945080       13  \n",
       "10199   3.0          9.3  1476.0        46.0  3.203661       17  \n",
       "10203   3.1          9.3  1478.2        45.5  2.974828       24  "
      ]
     },
     "execution_count": 26,
     "metadata": {},
     "output_type": "execute_result"
    }
   ],
   "source": [
    "df = df.drop('Name', axis = 1)\n",
    "df = df.drop('LastName', axis = 1) \n",
    "df = df.drop('MasterUserID', axis=1)\n",
    "df.head()"
   ]
  },
  {
   "attachments": {},
   "cell_type": "markdown",
   "metadata": {},
   "source": [
    "##### We will now perfrom label encoding convert the gender and success column into 0 and 1 labels  "
   ]
  },
  {
   "cell_type": "code",
   "execution_count": 27,
   "metadata": {},
   "outputs": [],
   "source": [
    "df['Gender'] = df['Gender'].apply(lambda x: 1 if x == 'Female' else 0)\n",
    "df['success'] = df['success'].apply(lambda x: 1 if x == True else 0)\n",
    "df['Gender'] = df['Gender'].astype('int')"
   ]
  },
  {
   "attachments": {},
   "cell_type": "markdown",
   "metadata": {},
   "source": [
    "### Final Phase of Exploratory Data Analysis to identify how our data looks before going to the model building phase "
   ]
  },
  {
   "cell_type": "code",
   "execution_count": 28,
   "metadata": {},
   "outputs": [
    {
     "data": {
      "text/plain": [
       "<Axes: >"
      ]
     },
     "execution_count": 28,
     "metadata": {},
     "output_type": "execute_result"
    },
    {
     "data": {
      "image/png": "[encoded data removed]",
      "text/plain": [
       "<Figure size 1100x900 with 2 Axes>"
      ]
     },
     "metadata": {},
     "output_type": "display_data"
    }
   ],
   "source": [
    "# Correlation matrix \n",
    "corr = df.corr()\n",
    "mask = np.triu(np.ones_like(corr, dtype=bool))\n",
    "f, ax = plt.subplots(figsize=(11,9))\n",
    "cmap= sns.diverging_palette(230, 20, as_cmap=True)\n",
    "sns.heatmap(corr, mask=mask, cmap = cmap, vmax=.3,\n",
    " center=0, square=True, linewidths=.5, cbar_kws={\"shrink\":.5})"
   ]
  },
  {
   "attachments": {},
   "cell_type": "markdown",
   "metadata": {},
   "source": [
    "##### We can see that there aren't any impactful multicolinearity instances. Hence, we will use all these predictors in the model building phase to keep noise in the data"
   ]
  },
  {
   "attachments": {},
   "cell_type": "markdown",
   "metadata": {},
   "source": [
    "##### Creating a time series plot to identify any unsual trends in the data between the two classes  "
   ]
  },
  {
   "cell_type": "code",
   "execution_count": 29,
   "metadata": {},
   "outputs": [
    {
     "data": {
      "image/png": "[encoded data removed]",
      "text/plain": [
       "<Figure size 640x480 with 1 Axes>"
      ]
     },
     "metadata": {},
     "output_type": "display_data"
    }
   ],
   "source": [
    "# Extracting all the rows for each class type\n",
    "df1 = df.query('success == 1')\n",
    "df0 = df.query('success == 0')\n",
    "\n",
    "# Plot \n",
    "plt.scatter( df1['DayDiff']  , df1['TBWL'], color='blue', marker='x', label='Class 1')\n",
    "plt.scatter(df0['DayDiff']  , df0['TBWL'], color='red', marker='o', label='Class 0') \n",
    "plt.xlabel('Days over time') \n",
    "plt.ylabel('TBWL')\n",
    "plt.legend() \n",
    "plt.show()    "
   ]
  },
  {
   "attachments": {},
   "cell_type": "markdown",
   "metadata": {},
   "source": [
    "##### From the plot above, we can see that you can't really determine if a patient is ON TRACK until after a certain amount of days. \n",
    "\n",
    "**Based on the plot, We will imply these techniques to increase performace of the model:**\n",
    "\n",
    "1. We will use all the rows and days over time to train our data. This will let our model capture complexity\n",
    "\n",
    "2. When we test our model, we will only make prediction if a patient have completed treatement for atleast 30 days. This is because the plot shows us that before 30 days, the two classes overlap alot. Implying that it can be very difficult to predict if a patient will be on track or not. "
   ]
  },
  {
   "attachments": {},
   "cell_type": "markdown",
   "metadata": {},
   "source": [
    "### Splitting the Data into train and test \n",
    "- Around 90% is splitted towards train and the 10% is towards test \n",
    " - I also made sure to keep all the data of each patient in one group. For example, patients in test data will not be found in train data "
   ]
  },
  {
   "cell_type": "code",
   "execution_count": 30,
   "metadata": {},
   "outputs": [],
   "source": [
    "# Splitting the data\n",
    "train = df[:28014]\n",
    "test = df[28014:]\n",
    "\n",
    "# Subseting to extract each patients record after 30 days\n",
    "test = test [ (test['DayDiff'] >= 30) ]"
   ]
  },
  {
   "cell_type": "code",
   "execution_count": 50,
   "metadata": {},
   "outputs": [
    {
     "data": {
      "text/html": [
       "<div>\n",
       "<style scoped>\n",
       "    .dataframe tbody tr th:only-of-type {\n",
       "        vertical-align: middle;\n",
       "    }\n",
       "\n",
       "    .dataframe tbody tr th {\n",
       "        vertical-align: top;\n",
       "    }\n",
       "\n",
       "    .dataframe thead th {\n",
       "        text-align: right;\n",
       "    }\n",
       "</style>\n",
       "<table border=\"1\" class=\"dataframe\">\n",
       "  <thead>\n",
       "    <tr style=\"text-align: right;\">\n",
       "      <th></th>\n",
       "      <th>Gender</th>\n",
       "      <th>Unit</th>\n",
       "      <th>Age</th>\n",
       "      <th>Height</th>\n",
       "      <th>Weight</th>\n",
       "      <th>BMI</th>\n",
       "      <th>BodyFat</th>\n",
       "      <th>BodyWater</th>\n",
       "      <th>Bone</th>\n",
       "      <th>VisceralFat</th>\n",
       "      <th>BMR</th>\n",
       "      <th>MuscleMass</th>\n",
       "      <th>TBWL</th>\n",
       "      <th>DayDiff</th>\n",
       "    </tr>\n",
       "  </thead>\n",
       "  <tbody>\n",
       "    <tr>\n",
       "      <th>8117</th>\n",
       "      <td>0.0</td>\n",
       "      <td>0.0</td>\n",
       "      <td>51.0</td>\n",
       "      <td>191.0</td>\n",
       "      <td>89.2</td>\n",
       "      <td>24.5</td>\n",
       "      <td>23.1</td>\n",
       "      <td>50.1</td>\n",
       "      <td>3.4</td>\n",
       "      <td>11.8</td>\n",
       "      <td>1910.8</td>\n",
       "      <td>61.9</td>\n",
       "      <td>6.203996</td>\n",
       "      <td>30.0</td>\n",
       "    </tr>\n",
       "    <tr>\n",
       "      <th>8113</th>\n",
       "      <td>0.0</td>\n",
       "      <td>0.0</td>\n",
       "      <td>51.0</td>\n",
       "      <td>191.0</td>\n",
       "      <td>89.0</td>\n",
       "      <td>24.4</td>\n",
       "      <td>23.1</td>\n",
       "      <td>50.2</td>\n",
       "      <td>3.4</td>\n",
       "      <td>11.0</td>\n",
       "      <td>1908.3</td>\n",
       "      <td>61.9</td>\n",
       "      <td>6.414301</td>\n",
       "      <td>31.0</td>\n",
       "    </tr>\n",
       "    <tr>\n",
       "      <th>8126</th>\n",
       "      <td>0.0</td>\n",
       "      <td>0.0</td>\n",
       "      <td>51.0</td>\n",
       "      <td>191.0</td>\n",
       "      <td>88.2</td>\n",
       "      <td>24.2</td>\n",
       "      <td>22.9</td>\n",
       "      <td>50.3</td>\n",
       "      <td>3.3</td>\n",
       "      <td>10.9</td>\n",
       "      <td>1896.7</td>\n",
       "      <td>61.8</td>\n",
       "      <td>7.255521</td>\n",
       "      <td>36.0</td>\n",
       "    </tr>\n",
       "    <tr>\n",
       "      <th>8123</th>\n",
       "      <td>0.0</td>\n",
       "      <td>0.0</td>\n",
       "      <td>51.0</td>\n",
       "      <td>191.0</td>\n",
       "      <td>88.0</td>\n",
       "      <td>24.1</td>\n",
       "      <td>22.9</td>\n",
       "      <td>50.4</td>\n",
       "      <td>3.3</td>\n",
       "      <td>10.9</td>\n",
       "      <td>1894.1</td>\n",
       "      <td>61.7</td>\n",
       "      <td>7.465825</td>\n",
       "      <td>37.0</td>\n",
       "    </tr>\n",
       "    <tr>\n",
       "      <th>8125</th>\n",
       "      <td>0.0</td>\n",
       "      <td>0.0</td>\n",
       "      <td>51.0</td>\n",
       "      <td>191.0</td>\n",
       "      <td>87.8</td>\n",
       "      <td>24.1</td>\n",
       "      <td>22.9</td>\n",
       "      <td>50.4</td>\n",
       "      <td>3.3</td>\n",
       "      <td>10.9</td>\n",
       "      <td>1892.0</td>\n",
       "      <td>60.7</td>\n",
       "      <td>7.676130</td>\n",
       "      <td>38.0</td>\n",
       "    </tr>\n",
       "  </tbody>\n",
       "</table>\n",
       "</div>"
      ],
      "text/plain": [
       "      Gender  Unit   Age  Height  Weight   BMI  BodyFat  BodyWater  Bone  \\\n",
       "8117     0.0   0.0  51.0   191.0    89.2  24.5     23.1       50.1   3.4   \n",
       "8113     0.0   0.0  51.0   191.0    89.0  24.4     23.1       50.2   3.4   \n",
       "8126     0.0   0.0  51.0   191.0    88.2  24.2     22.9       50.3   3.3   \n",
       "8123     0.0   0.0  51.0   191.0    88.0  24.1     22.9       50.4   3.3   \n",
       "8125     0.0   0.0  51.0   191.0    87.8  24.1     22.9       50.4   3.3   \n",
       "\n",
       "      VisceralFat     BMR  MuscleMass      TBWL  DayDiff  \n",
       "8117         11.8  1910.8        61.9  6.203996     30.0  \n",
       "8113         11.0  1908.3        61.9  6.414301     31.0  \n",
       "8126         10.9  1896.7        61.8  7.255521     36.0  \n",
       "8123         10.9  1894.1        61.7  7.465825     37.0  \n",
       "8125         10.9  1892.0        60.7  7.676130     38.0  "
      ]
     },
     "execution_count": 50,
     "metadata": {},
     "output_type": "execute_result"
    }
   ],
   "source": [
    "test.head()"
   ]
  },
  {
   "attachments": {},
   "cell_type": "markdown",
   "metadata": {},
   "source": [
    "##### Now, let's make sure we extracted around same percentage of classes in both train and test datasets "
   ]
  },
  {
   "cell_type": "code",
   "execution_count": 31,
   "metadata": {},
   "outputs": [
    {
     "data": {
      "text/plain": [
       "<Axes: xlabel='Gender'>"
      ]
     },
     "execution_count": 31,
     "metadata": {},
     "output_type": "execute_result"
    },
    {
     "data": {
      "image/png": "[encoded data removed]",
      "text/plain": [
       "<Figure size 640x480 with 1 Axes>"
      ]
     },
     "metadata": {},
     "output_type": "display_data"
    }
   ],
   "source": [
    "# Identifying percentages of men and female in train and test \n",
    "train['Gender'].value_counts().plot(kind='bar')"
   ]
  },
  {
   "cell_type": "code",
   "execution_count": 32,
   "metadata": {},
   "outputs": [
    {
     "data": {
      "text/plain": [
       "<Axes: xlabel='Gender'>"
      ]
     },
     "execution_count": 32,
     "metadata": {},
     "output_type": "execute_result"
    },
    {
     "data": {
      "image/png": "[encoded data removed]",
      "text/plain": [
       "<Figure size 640x480 with 1 Axes>"
      ]
     },
     "metadata": {},
     "output_type": "display_data"
    }
   ],
   "source": [
    "test['Gender'].value_counts().plot(kind='bar')"
   ]
  },
  {
   "attachments": {},
   "cell_type": "markdown",
   "metadata": {},
   "source": [
    "##### We can see the distribution of barplots look around the same. Hence, same percentage of gender is extracted in both train and test groups"
   ]
  },
  {
   "cell_type": "code",
   "execution_count": 33,
   "metadata": {},
   "outputs": [
    {
     "data": {
      "text/plain": [
       "<Axes: xlabel='success'>"
      ]
     },
     "execution_count": 33,
     "metadata": {},
     "output_type": "execute_result"
    },
    {
     "data": {
      "image/png": "[encoded data removed]",
      "text/plain": [
       "<Figure size 640x480 with 1 Axes>"
      ]
     },
     "metadata": {},
     "output_type": "display_data"
    }
   ],
   "source": [
    "# Identifying percentages of sucsess in TBWL in train and test \n",
    "train['success'].value_counts().plot(kind='bar')"
   ]
  },
  {
   "cell_type": "code",
   "execution_count": 34,
   "metadata": {},
   "outputs": [
    {
     "data": {
      "text/plain": [
       "<Axes: xlabel='success'>"
      ]
     },
     "execution_count": 34,
     "metadata": {},
     "output_type": "execute_result"
    },
    {
     "data": {
      "image/png": "[encoded data removed]",
      "text/plain": [
       "<Figure size 640x480 with 1 Axes>"
      ]
     },
     "metadata": {},
     "output_type": "display_data"
    }
   ],
   "source": [
    "test['success'].value_counts().plot(kind='bar')"
   ]
  },
  {
   "attachments": {},
   "cell_type": "markdown",
   "metadata": {},
   "source": [
    "##### We can see the distribution of barplots look around the same. Hence, same percentage of success is extracted in both train and test groups"
   ]
  },
  {
   "cell_type": "code",
   "execution_count": 35,
   "metadata": {},
   "outputs": [],
   "source": [
    "# Removing the response column (Success) from training and testing groups, and storing it into a sepreate dataframe \n",
    "train_y = train['success']\n",
    "train = train.drop('success', axis=1)\n",
    "test_y = test['success']\n",
    "test = test.drop('success', axis=1)"
   ]
  },
  {
   "attachments": {},
   "cell_type": "markdown",
   "metadata": {},
   "source": [
    "### Model Building\n",
    "\n",
    "- I decided to use Ensemble learning model on this data due to its complex and imbalanced nature. I went with XGBoost since it uses trees to build on data to learn from past mistakes (residuals) and then use those residuals to build the next tree (this process is repeated until residuals stops reducing). This technique will be useful on this dataset because at first the model will predict most of the patients to be on track due to imbalance nature of success column. Afterwards it will use hyperparmeters given by me to iteratively fix those mistakes.\n",
    "\n",
    "**Note:**\n",
    "\n",
    "I have also tried out Random Forest, and ANN's on this data using different hyperparameters. However, XGBoost provided the best results. "
   ]
  },
  {
   "cell_type": "code",
   "execution_count": 36,
   "metadata": {},
   "outputs": [],
   "source": [
    "# Create adaboost classifer object\n",
    "xgb = XGBClassifier()\n",
    "\n",
    "# Train Adaboost Classifer\n",
    "model = xgb.fit(train, train_y)\n",
    "\n",
    "#Predict the response on test dataset (Increasing the threshold to increase performance on undersampled class (0))\n",
    "y_pred = (xgb.predict_proba(test)[:,1] > 0.97)"
   ]
  },
  {
   "cell_type": "code",
   "execution_count": 37,
   "metadata": {},
   "outputs": [
    {
     "data": {
      "image/png": "[encoded data removed]",
      "text/plain": [
       "<Figure size 640x480 with 2 Axes>"
      ]
     },
     "metadata": {},
     "output_type": "display_data"
    }
   ],
   "source": [
    "cm = confusion_matrix(test_y, y_pred)\n",
    "ConfusionMatrixDisplay(confusion_matrix=cm).plot();"
   ]
  },
  {
   "attachments": {},
   "cell_type": "markdown",
   "metadata": {},
   "source": [
    "#### From the confusion matrix, we can see that model performs well on over samapled class (1). However, ....\n",
    "- Due to the imbalance nature of data, the model has a hard time of making accurate predictions for the under sampled class (0). \n",
    "- We can see that it misclassified almost half of patients that are not on track as 'on track'. We have to reduce this number since we would like to closely pay attention to patients who are not on track and determine how to change that at an early stage. "
   ]
  },
  {
   "cell_type": "code",
   "execution_count": 38,
   "metadata": {},
   "outputs": [
    {
     "name": "stdout",
     "output_type": "stream",
     "text": [
      "              precision    recall  f1-score   support\n",
      "\n",
      "           0       0.61      0.52      0.56       271\n",
      "           1       0.96      0.97      0.96      2963\n",
      "\n",
      "    accuracy                           0.93      3234\n",
      "   macro avg       0.78      0.74      0.76      3234\n",
      "weighted avg       0.93      0.93      0.93      3234\n",
      "\n"
     ]
    }
   ],
   "source": [
    "print(classification_report(test_y, y_pred))\n",
    "\n",
    "# Function to print out the ROC plot\n",
    "import matplotlib.pyplot as plt\n",
    "def plot_roc_curve(true_y, y_prob):\n",
    "    fpr, tpr, thresholds = roc_curve(true_y, y_prob)\n",
    "    plt.plot(fpr, tpr)\n",
    "    plt.xlabel('False Positive Rate')\n",
    "    plt.ylabel('True Positive Rate')\n",
    "    "
   ]
  },
  {
   "cell_type": "code",
   "execution_count": 846,
   "metadata": {},
   "outputs": [
    {
     "name": "stdout",
     "output_type": "stream",
     "text": [
      "AUC score: 0.74\n"
     ]
    },
    {
     "data": {
      "image/png": "[encoded data removed]",
      "text/plain": [
       "<Figure size 640x480 with 1 Axes>"
      ]
     },
     "metadata": {},
     "output_type": "display_data"
    }
   ],
   "source": [
    "plot_roc_curve(test_y, y_pred)\n",
    "print(f'AUC score: { round(roc_auc_score(test_y, y_pred), 2)}')"
   ]
  },
  {
   "attachments": {},
   "cell_type": "markdown",
   "metadata": {},
   "source": [
    "##### From the AUC value of 0.74, and recall value of 0.52 for under-sampled class (0). We can conclude that our model performed poorly in predicting patients who are not on track "
   ]
  },
  {
   "attachments": {},
   "cell_type": "markdown",
   "metadata": {},
   "source": [
    "##### Using GridSearchCv to tune parameters of XGboost model and impact its learning rate on the training data to capture complex relationships and increase model performance"
   ]
  },
  {
   "cell_type": "code",
   "execution_count": 847,
   "metadata": {},
   "outputs": [
    {
     "name": "stdout",
     "output_type": "stream",
     "text": [
      "Fitting 5 folds for each of 243 candidates, totalling 1215 fits\n"
     ]
    },
    {
     "data": {
      "text/html": [
       "<style>#sk-container-id-11 {color: black;}#sk-container-id-11 pre{padding: 0;}#sk-container-id-11 div.sk-toggleable {background-color: white;}#sk-container-id-11 label.sk-toggleable__label {cursor: pointer;display: block;width: 100%;margin-bottom: 0;padding: 0.3em;box-sizing: border-box;text-align: center;}#sk-container-id-11 label.sk-toggleable__label-arrow:before {content: \"▸\";float: left;margin-right: 0.25em;color: #696969;}#sk-container-id-11 label.sk-toggleable__label-arrow:hover:before {color: black;}#sk-container-id-11 div.sk-estimator:hover label.sk-toggleable__label-arrow:before {color: black;}#sk-container-id-11 div.sk-toggleable__content {max-height: 0;max-width: 0;overflow: hidden;text-align: left;background-color: #f0f8ff;}#sk-container-id-11 div.sk-toggleable__content pre {margin: 0.2em;color: black;border-radius: 0.25em;background-color: #f0f8ff;}#sk-container-id-11 input.sk-toggleable__control:checked~div.sk-toggleable__content {max-height: 200px;max-width: 100%;overflow: auto;}#sk-container-id-11 input.sk-toggleable__control:checked~label.sk-toggleable__label-arrow:before {content: \"▾\";}#sk-container-id-11 div.sk-estimator input.sk-toggleable__control:checked~label.sk-toggleable__label {background-color: #d4ebff;}#sk-container-id-11 div.sk-label input.sk-toggleable__control:checked~label.sk-toggleable__label {background-color: #d4ebff;}#sk-container-id-11 input.sk-hidden--visually {border: 0;clip: rect(1px 1px 1px 1px);clip: rect(1px, 1px, 1px, 1px);height: 1px;margin: -1px;overflow: hidden;padding: 0;position: absolute;width: 1px;}#sk-container-id-11 div.sk-estimator {font-family: monospace;background-color: #f0f8ff;border: 1px dotted black;border-radius: 0.25em;box-sizing: border-box;margin-bottom: 0.5em;}#sk-container-id-11 div.sk-estimator:hover {background-color: #d4ebff;}#sk-container-id-11 div.sk-parallel-item::after {content: \"\";width: 100%;border-bottom: 1px solid gray;flex-grow: 1;}#sk-container-id-11 div.sk-label:hover label.sk-toggleable__label {background-color: #d4ebff;}#sk-container-id-11 div.sk-serial::before {content: \"\";position: absolute;border-left: 1px solid gray;box-sizing: border-box;top: 0;bottom: 0;left: 50%;z-index: 0;}#sk-container-id-11 div.sk-serial {display: flex;flex-direction: column;align-items: center;background-color: white;padding-right: 0.2em;padding-left: 0.2em;position: relative;}#sk-container-id-11 div.sk-item {position: relative;z-index: 1;}#sk-container-id-11 div.sk-parallel {display: flex;align-items: stretch;justify-content: center;background-color: white;position: relative;}#sk-container-id-11 div.sk-item::before, #sk-container-id-11 div.sk-parallel-item::before {content: \"\";position: absolute;border-left: 1px solid gray;box-sizing: border-box;top: 0;bottom: 0;left: 50%;z-index: -1;}#sk-container-id-11 div.sk-parallel-item {display: flex;flex-direction: column;z-index: 1;position: relative;background-color: white;}#sk-container-id-11 div.sk-parallel-item:first-child::after {align-self: flex-end;width: 50%;}#sk-container-id-11 div.sk-parallel-item:last-child::after {align-self: flex-start;width: 50%;}#sk-container-id-11 div.sk-parallel-item:only-child::after {width: 0;}#sk-container-id-11 div.sk-dashed-wrapped {border: 1px dashed gray;margin: 0 0.4em 0.5em 0.4em;box-sizing: border-box;padding-bottom: 0.4em;background-color: white;}#sk-container-id-11 div.sk-label label {font-family: monospace;font-weight: bold;display: inline-block;line-height: 1.2em;}#sk-container-id-11 div.sk-label-container {text-align: center;}#sk-container-id-11 div.sk-container {/* jupyter's `normalize.less` sets `[hidden] { display: none; }` but bootstrap.min.css set `[hidden] { display: none !important; }` so we also need the `!important` here to be able to override the default hidden behavior on the sphinx rendered scikit-learn.org. See: https://github.com/scikit-learn/scikit-learn/issues/21755 */display: inline-block !important;position: relative;}#sk-container-id-11 div.sk-text-repr-fallback {display: none;}</style><div id=\"sk-container-id-11\" class=\"sk-top-container\"><div class=\"sk-text-repr-fallback\"><pre>GridSearchCV(cv=5,\n",
       "             estimator=XGBClassifier(base_score=None, booster=None,\n",
       "                                     callbacks=None, colsample_bylevel=None,\n",
       "                                     colsample_bynode=None,\n",
       "                                     colsample_bytree=None,\n",
       "                                     early_stopping_rounds=None,\n",
       "                                     enable_categorical=False, eval_metric=None,\n",
       "                                     feature_types=None, gamma=None,\n",
       "                                     gpu_id=None, grow_policy=None,\n",
       "                                     importance_type=None,\n",
       "                                     interaction_constraints=None,\n",
       "                                     learning_rate=None,...\n",
       "                                     max_delta_step=None, max_depth=None,\n",
       "                                     max_leaves=None, min_child_weight=None,\n",
       "                                     missing=nan, monotone_constraints=None,\n",
       "                                     n_estimators=100, n_jobs=None,\n",
       "                                     num_parallel_tree=None, predictor=None,\n",
       "                                     random_state=None, ...),\n",
       "             n_jobs=10,\n",
       "             param_grid={&#x27;colsample_bytree&#x27;: [0.3, 0.7, 1],\n",
       "                         &#x27;gamma&#x27;: [0.2, 0.5, 1],\n",
       "                         &#x27;learning_rate&#x27;: [0.1, 0.01, 0.05],\n",
       "                         &#x27;max_depth&#x27;: [4, 6, 8], &#x27;reg_alpha&#x27;: [0.2, 0.6, 1]},\n",
       "             scoring=&#x27;roc_auc&#x27;, verbose=True)</pre><b>In a Jupyter environment, please rerun this cell to show the HTML representation or trust the notebook. <br />On GitHub, the HTML representation is unable to render, please try loading this page with nbviewer.org.</b></div><div class=\"sk-container\" hidden><div class=\"sk-item sk-dashed-wrapped\"><div class=\"sk-label-container\"><div class=\"sk-label sk-toggleable\"><input class=\"sk-toggleable__control sk-hidden--visually\" id=\"sk-estimator-id-13\" type=\"checkbox\" ><label for=\"sk-estimator-id-13\" class=\"sk-toggleable__label sk-toggleable__label-arrow\">GridSearchCV</label><div class=\"sk-toggleable__content\"><pre>GridSearchCV(cv=5,\n",
       "             estimator=XGBClassifier(base_score=None, booster=None,\n",
       "                                     callbacks=None, colsample_bylevel=None,\n",
       "                                     colsample_bynode=None,\n",
       "                                     colsample_bytree=None,\n",
       "                                     early_stopping_rounds=None,\n",
       "                                     enable_categorical=False, eval_metric=None,\n",
       "                                     feature_types=None, gamma=None,\n",
       "                                     gpu_id=None, grow_policy=None,\n",
       "                                     importance_type=None,\n",
       "                                     interaction_constraints=None,\n",
       "                                     learning_rate=None,...\n",
       "                                     max_delta_step=None, max_depth=None,\n",
       "                                     max_leaves=None, min_child_weight=None,\n",
       "                                     missing=nan, monotone_constraints=None,\n",
       "                                     n_estimators=100, n_jobs=None,\n",
       "                                     num_parallel_tree=None, predictor=None,\n",
       "                                     random_state=None, ...),\n",
       "             n_jobs=10,\n",
       "             param_grid={&#x27;colsample_bytree&#x27;: [0.3, 0.7, 1],\n",
       "                         &#x27;gamma&#x27;: [0.2, 0.5, 1],\n",
       "                         &#x27;learning_rate&#x27;: [0.1, 0.01, 0.05],\n",
       "                         &#x27;max_depth&#x27;: [4, 6, 8], &#x27;reg_alpha&#x27;: [0.2, 0.6, 1]},\n",
       "             scoring=&#x27;roc_auc&#x27;, verbose=True)</pre></div></div></div><div class=\"sk-parallel\"><div class=\"sk-parallel-item\"><div class=\"sk-item\"><div class=\"sk-label-container\"><div class=\"sk-label sk-toggleable\"><input class=\"sk-toggleable__control sk-hidden--visually\" id=\"sk-estimator-id-14\" type=\"checkbox\" ><label for=\"sk-estimator-id-14\" class=\"sk-toggleable__label sk-toggleable__label-arrow\">estimator: XGBClassifier</label><div class=\"sk-toggleable__content\"><pre>XGBClassifier(base_score=None, booster=None, callbacks=None,\n",
       "              colsample_bylevel=None, colsample_bynode=None,\n",
       "              colsample_bytree=None, early_stopping_rounds=None,\n",
       "              enable_categorical=False, eval_metric=None, feature_types=None,\n",
       "              gamma=None, gpu_id=None, grow_policy=None, importance_type=None,\n",
       "              interaction_constraints=None, learning_rate=None, max_bin=None,\n",
       "              max_cat_threshold=None, max_cat_to_onehot=None,\n",
       "              max_delta_step=None, max_depth=None, max_leaves=None,\n",
       "              min_child_weight=None, missing=nan, monotone_constraints=None,\n",
       "              n_estimators=100, n_jobs=None, num_parallel_tree=None,\n",
       "              predictor=None, random_state=None, ...)</pre></div></div></div><div class=\"sk-serial\"><div class=\"sk-item\"><div class=\"sk-estimator sk-toggleable\"><input class=\"sk-toggleable__control sk-hidden--visually\" id=\"sk-estimator-id-15\" type=\"checkbox\" ><label for=\"sk-estimator-id-15\" class=\"sk-toggleable__label sk-toggleable__label-arrow\">XGBClassifier</label><div class=\"sk-toggleable__content\"><pre>XGBClassifier(base_score=None, booster=None, callbacks=None,\n",
       "              colsample_bylevel=None, colsample_bynode=None,\n",
       "              colsample_bytree=None, early_stopping_rounds=None,\n",
       "              enable_categorical=False, eval_metric=None, feature_types=None,\n",
       "              gamma=None, gpu_id=None, grow_policy=None, importance_type=None,\n",
       "              interaction_constraints=None, learning_rate=None, max_bin=None,\n",
       "              max_cat_threshold=None, max_cat_to_onehot=None,\n",
       "              max_delta_step=None, max_depth=None, max_leaves=None,\n",
       "              min_child_weight=None, missing=nan, monotone_constraints=None,\n",
       "              n_estimators=100, n_jobs=None, num_parallel_tree=None,\n",
       "              predictor=None, random_state=None, ...)</pre></div></div></div></div></div></div></div></div></div></div>"
      ],
      "text/plain": [
       "GridSearchCV(cv=5,\n",
       "             estimator=XGBClassifier(base_score=None, booster=None,\n",
       "                                     callbacks=None, colsample_bylevel=None,\n",
       "                                     colsample_bynode=None,\n",
       "                                     colsample_bytree=None,\n",
       "                                     early_stopping_rounds=None,\n",
       "                                     enable_categorical=False, eval_metric=None,\n",
       "                                     feature_types=None, gamma=None,\n",
       "                                     gpu_id=None, grow_policy=None,\n",
       "                                     importance_type=None,\n",
       "                                     interaction_constraints=None,\n",
       "                                     learning_rate=None,...\n",
       "                                     max_delta_step=None, max_depth=None,\n",
       "                                     max_leaves=None, min_child_weight=None,\n",
       "                                     missing=nan, monotone_constraints=None,\n",
       "                                     n_estimators=100, n_jobs=None,\n",
       "                                     num_parallel_tree=None, predictor=None,\n",
       "                                     random_state=None, ...),\n",
       "             n_jobs=10,\n",
       "             param_grid={'colsample_bytree': [0.3, 0.7, 1],\n",
       "                         'gamma': [0.2, 0.5, 1],\n",
       "                         'learning_rate': [0.1, 0.01, 0.05],\n",
       "                         'max_depth': [4, 6, 8], 'reg_alpha': [0.2, 0.6, 1]},\n",
       "             scoring='roc_auc', verbose=True)"
      ]
     },
     "execution_count": 847,
     "metadata": {},
     "output_type": "execute_result"
    }
   ],
   "source": [
    "# Making the grid to fit model on ALL combinations of parameters below, and output optimal parameters\n",
    "parameters = {\n",
    "    'max_depth': [4,6,8],\n",
    "    'colsample_bytree': [0.3, 0.7, 1],\n",
    "    'learning_rate': [0.1, 0.01, 0.05],\n",
    "    'gamma' : [0.2,0.5, 1],\n",
    "    'reg_alpha': [0.2, 0.6, 1]\n",
    "}\n",
    "\n",
    "grid_search = GridSearchCV(\n",
    "    estimator=XGBClassifier(),\n",
    "    param_grid=parameters,\n",
    "    scoring = 'roc_auc',\n",
    "    n_jobs = 10,\n",
    "    cv = 5,\n",
    "    verbose=True\n",
    ")\n",
    "grid_search.fit(train, train_y)"
   ]
  },
  {
   "cell_type": "code",
   "execution_count": 848,
   "metadata": {},
   "outputs": [
    {
     "data": {
      "text/plain": [
       "{'colsample_bytree': 1,\n",
       " 'gamma': 0.5,\n",
       " 'learning_rate': 0.05,\n",
       " 'max_depth': 4,\n",
       " 'reg_alpha': 0.6}"
      ]
     },
     "execution_count": 848,
     "metadata": {},
     "output_type": "execute_result"
    }
   ],
   "source": [
    "# These are the optimal parametes of the model on this data\n",
    "grid_search.best_params_"
   ]
  },
  {
   "cell_type": "code",
   "execution_count": 51,
   "metadata": {},
   "outputs": [],
   "source": [
    "# Creating Xgboost classifer object with hyperparameters from the above results\n",
    "finalmodel = XGBClassifier(learning_rate=0.085, n_estimators = 5000, max_depth = 4, gamma = 0.5, colsample_bytree = 1,  \n",
    "                  reg_alpha = 0.5)\n",
    "# Training the model\n",
    "model = finalmodel.fit(train, train_y)"
   ]
  },
  {
   "cell_type": "code",
   "execution_count": 52,
   "metadata": {},
   "outputs": [
    {
     "data": {
      "image/png": "[encoded data removed]",
      "text/plain": [
       "<Figure size 640x480 with 2 Axes>"
      ]
     },
     "metadata": {},
     "output_type": "display_data"
    }
   ],
   "source": [
    "y_pred = (finalmodel.predict_proba(test)[:,1] > 0.982)\n",
    "cfm_test = confusion_matrix(test_y, y_pred)\n",
    "ConfusionMatrixDisplay(confusion_matrix=cfm_test).plot();"
   ]
  },
  {
   "attachments": {},
   "cell_type": "markdown",
   "metadata": {},
   "source": [
    "##### After hyperparameter tuning, we can see that model performs relatively well on under samapled class with a trade off of missclassifying some observations (166) of over-sampled class(1) to under-sampled class (0). Nonetheless, this is a very good model as compared to the evaluation of other models used on this excercise"
   ]
  },
  {
   "cell_type": "code",
   "execution_count": 53,
   "metadata": {},
   "outputs": [
    {
     "name": "stdout",
     "output_type": "stream",
     "text": [
      "              precision    recall  f1-score   support\n",
      "\n",
      "           0       0.58      0.86      0.69       271\n",
      "           1       0.99      0.94      0.96      2963\n",
      "\n",
      "    accuracy                           0.94      3234\n",
      "   macro avg       0.78      0.90      0.83      3234\n",
      "weighted avg       0.95      0.94      0.94      3234\n",
      "\n"
     ]
    }
   ],
   "source": [
    "print(classification_report(test_y, y_pred))"
   ]
  },
  {
   "cell_type": "code",
   "execution_count": 54,
   "metadata": {},
   "outputs": [
    {
     "name": "stdout",
     "output_type": "stream",
     "text": [
      "AUC score: 0.9\n"
     ]
    },
    {
     "data": {
      "image/png": "[encoded data removed]",
      "text/plain": [
       "<Figure size 640x480 with 1 Axes>"
      ]
     },
     "metadata": {},
     "output_type": "display_data"
    }
   ],
   "source": [
    "plot_roc_curve(test_y, y_pred)\n",
    "print(f'AUC score: { round(roc_auc_score(test_y, y_pred), 2)}')"
   ]
  },
  {
   "attachments": {},
   "cell_type": "markdown",
   "metadata": {},
   "source": [
    "##### We have bumped the AUC value from 0.74 to 0.90 (Implying that our model makes a correct classification between the two classes 90% of the time). We can conclude that this model performed the best in predicting patients success in the program. \n",
    "\n",
    "**Note:**\n",
    "- With more training data in future, the model AUC will continue to increase on test data."
   ]
  },
  {
   "attachments": {},
   "cell_type": "markdown",
   "metadata": {},
   "source": [
    "### Saving the model to deploy it on a website where Allurion patients can enter their personalized data from app to identify if they're on track or not "
   ]
  },
  {
   "cell_type": "code",
   "execution_count": 43,
   "metadata": {},
   "outputs": [],
   "source": [
    "import pickle\n",
    "data = {\"model\": model}\n",
    "with open('saved_steps.pkl', 'wb') as file:\n",
    "    pickle.dump(data, file)"
   ]
  },
  {
   "cell_type": "code",
   "execution_count": 44,
   "metadata": {},
   "outputs": [],
   "source": [
    "with open('saved_steps.pkl', 'rb') as file:\n",
    "    data = pickle.load(file)\n",
    "\n",
    "model_loaded = data[\"model\"]"
   ]
  },
  {
   "attachments": {},
   "cell_type": "markdown",
   "metadata": {},
   "source": [
    "#### Link to web application: https://allurion-work-simulation.streamlit.app/"
   ]
  },
  {
   "attachments": {},
   "cell_type": "markdown",
   "metadata": {},
   "source": [
    "### Below are some other models I built (Did not perform as good as XGBoost)"
   ]
  },
  {
   "cell_type": "code",
   "execution_count": 836,
   "metadata": {},
   "outputs": [
    {
     "data": {
      "text/html": [
       "<style>#sk-container-id-10 {color: black;}#sk-container-id-10 pre{padding: 0;}#sk-container-id-10 div.sk-toggleable {background-color: white;}#sk-container-id-10 label.sk-toggleable__label {cursor: pointer;display: block;width: 100%;margin-bottom: 0;padding: 0.3em;box-sizing: border-box;text-align: center;}#sk-container-id-10 label.sk-toggleable__label-arrow:before {content: \"▸\";float: left;margin-right: 0.25em;color: #696969;}#sk-container-id-10 label.sk-toggleable__label-arrow:hover:before {color: black;}#sk-container-id-10 div.sk-estimator:hover label.sk-toggleable__label-arrow:before {color: black;}#sk-container-id-10 div.sk-toggleable__content {max-height: 0;max-width: 0;overflow: hidden;text-align: left;background-color: #f0f8ff;}#sk-container-id-10 div.sk-toggleable__content pre {margin: 0.2em;color: black;border-radius: 0.25em;background-color: #f0f8ff;}#sk-container-id-10 input.sk-toggleable__control:checked~div.sk-toggleable__content {max-height: 200px;max-width: 100%;overflow: auto;}#sk-container-id-10 input.sk-toggleable__control:checked~label.sk-toggleable__label-arrow:before {content: \"▾\";}#sk-container-id-10 div.sk-estimator input.sk-toggleable__control:checked~label.sk-toggleable__label {background-color: #d4ebff;}#sk-container-id-10 div.sk-label input.sk-toggleable__control:checked~label.sk-toggleable__label {background-color: #d4ebff;}#sk-container-id-10 input.sk-hidden--visually {border: 0;clip: rect(1px 1px 1px 1px);clip: rect(1px, 1px, 1px, 1px);height: 1px;margin: -1px;overflow: hidden;padding: 0;position: absolute;width: 1px;}#sk-container-id-10 div.sk-estimator {font-family: monospace;background-color: #f0f8ff;border: 1px dotted black;border-radius: 0.25em;box-sizing: border-box;margin-bottom: 0.5em;}#sk-container-id-10 div.sk-estimator:hover {background-color: #d4ebff;}#sk-container-id-10 div.sk-parallel-item::after {content: \"\";width: 100%;border-bottom: 1px solid gray;flex-grow: 1;}#sk-container-id-10 div.sk-label:hover label.sk-toggleable__label {background-color: #d4ebff;}#sk-container-id-10 div.sk-serial::before {content: \"\";position: absolute;border-left: 1px solid gray;box-sizing: border-box;top: 0;bottom: 0;left: 50%;z-index: 0;}#sk-container-id-10 div.sk-serial {display: flex;flex-direction: column;align-items: center;background-color: white;padding-right: 0.2em;padding-left: 0.2em;position: relative;}#sk-container-id-10 div.sk-item {position: relative;z-index: 1;}#sk-container-id-10 div.sk-parallel {display: flex;align-items: stretch;justify-content: center;background-color: white;position: relative;}#sk-container-id-10 div.sk-item::before, #sk-container-id-10 div.sk-parallel-item::before {content: \"\";position: absolute;border-left: 1px solid gray;box-sizing: border-box;top: 0;bottom: 0;left: 50%;z-index: -1;}#sk-container-id-10 div.sk-parallel-item {display: flex;flex-direction: column;z-index: 1;position: relative;background-color: white;}#sk-container-id-10 div.sk-parallel-item:first-child::after {align-self: flex-end;width: 50%;}#sk-container-id-10 div.sk-parallel-item:last-child::after {align-self: flex-start;width: 50%;}#sk-container-id-10 div.sk-parallel-item:only-child::after {width: 0;}#sk-container-id-10 div.sk-dashed-wrapped {border: 1px dashed gray;margin: 0 0.4em 0.5em 0.4em;box-sizing: border-box;padding-bottom: 0.4em;background-color: white;}#sk-container-id-10 div.sk-label label {font-family: monospace;font-weight: bold;display: inline-block;line-height: 1.2em;}#sk-container-id-10 div.sk-label-container {text-align: center;}#sk-container-id-10 div.sk-container {/* jupyter's `normalize.less` sets `[hidden] { display: none; }` but bootstrap.min.css set `[hidden] { display: none !important; }` so we also need the `!important` here to be able to override the default hidden behavior on the sphinx rendered scikit-learn.org. See: https://github.com/scikit-learn/scikit-learn/issues/21755 */display: inline-block !important;position: relative;}#sk-container-id-10 div.sk-text-repr-fallback {display: none;}</style><div id=\"sk-container-id-10\" class=\"sk-top-container\"><div class=\"sk-text-repr-fallback\"><pre>RandomForestClassifier(max_depth=1000, n_estimators=200)</pre><b>In a Jupyter environment, please rerun this cell to show the HTML representation or trust the notebook. <br />On GitHub, the HTML representation is unable to render, please try loading this page with nbviewer.org.</b></div><div class=\"sk-container\" hidden><div class=\"sk-item\"><div class=\"sk-estimator sk-toggleable\"><input class=\"sk-toggleable__control sk-hidden--visually\" id=\"sk-estimator-id-12\" type=\"checkbox\" checked><label for=\"sk-estimator-id-12\" class=\"sk-toggleable__label sk-toggleable__label-arrow\">RandomForestClassifier</label><div class=\"sk-toggleable__content\"><pre>RandomForestClassifier(max_depth=1000, n_estimators=200)</pre></div></div></div></div></div>"
      ],
      "text/plain": [
       "RandomForestClassifier(max_depth=1000, n_estimators=200)"
      ]
     },
     "execution_count": 836,
     "metadata": {},
     "output_type": "execute_result"
    }
   ],
   "source": [
    "rf = RandomForestClassifier(n_estimators=200, max_depth=1000)\n",
    "rf.fit(train, train_y)"
   ]
  },
  {
   "cell_type": "code",
   "execution_count": 837,
   "metadata": {},
   "outputs": [],
   "source": [
    "rf_pred = (rf.predict_proba(test)[:,1] > 0.95)"
   ]
  },
  {
   "cell_type": "code",
   "execution_count": 838,
   "metadata": {},
   "outputs": [
    {
     "data": {
      "image/png": "[encoded data removed]",
      "text/plain": [
       "<Figure size 640x480 with 2 Axes>"
      ]
     },
     "metadata": {},
     "output_type": "display_data"
    }
   ],
   "source": [
    "cm = confusion_matrix(test_y, rf_pred)\n",
    "\n",
    "ConfusionMatrixDisplay(confusion_matrix=cm).plot();"
   ]
  },
  {
   "cell_type": "code",
   "execution_count": 839,
   "metadata": {},
   "outputs": [
    {
     "name": "stdout",
     "output_type": "stream",
     "text": [
      "Recall: 0.844076949038137\n",
      "Precision: 0.9830974842767296\n",
      "F-Score: 0.908298529144725\n",
      "Auc: 0.8427026811611349\n"
     ]
    }
   ],
   "source": [
    "precision = precision_score(test_y, rf_pred)\n",
    "recall = recall_score(test_y, rf_pred)\n",
    "f = f1_score(test_y,rf_pred)\n",
    "Auc = roc_auc_score(test_y,rf_pred)\n",
    "\n",
    "print(\"Recall:\", recall)\n",
    "print(\"Precision:\", precision)\n",
    "print(\"F-Score:\", f)\n",
    "print(\"Auc:\", Auc)"
   ]
  },
  {
   "cell_type": "code",
   "execution_count": 291,
   "metadata": {},
   "outputs": [
    {
     "data": {
      "image/png": "[encoded data removed]",
      "text/plain": [
       "<Figure size 640x480 with 1 Axes>"
      ]
     },
     "metadata": {},
     "output_type": "display_data"
    }
   ],
   "source": [
    "feature_importances = pd.Series(rf.feature_importances_, index=train.columns).sort_values(ascending=False)\n",
    "\n",
    "# Plot a simple bar chart\n",
    "feature_importances.plot.bar();"
   ]
  },
  {
   "attachments": {},
   "cell_type": "markdown",
   "metadata": {},
   "source": [
    "##### We can see that the features we created in the feature engineering phase are most important predictors "
   ]
  },
  {
   "attachments": {},
   "cell_type": "markdown",
   "metadata": {},
   "source": [
    "##### Neural network"
   ]
  },
  {
   "cell_type": "code",
   "execution_count": 748,
   "metadata": {},
   "outputs": [],
   "source": [
    "# Scaling is a good technique to use on deep learning models\n",
    "from sklearn.preprocessing import StandardScaler\n",
    "sc = StandardScaler()\n",
    "train = sc.fit_transform(train)\n",
    "test = sc.transform(test)"
   ]
  },
  {
   "cell_type": "code",
   "execution_count": 749,
   "metadata": {},
   "outputs": [],
   "source": [
    "import tensorflow as tf\n",
    "ann = tf.keras.models.Sequential()\n",
    "ann.add(tf.keras.layers.Dense(units=6, input_dim=train.shape[1],activation=\"relu\"))\n",
    "ann.add(tf.keras.layers.Dense(units=6, input_dim=train.shape[1],activation=\"relu\"))\n",
    "ann.add(tf.keras.layers.Dense(units=10, input_dim=train.shape[1],activation=\"relu\"))\n",
    "ann.add(tf.keras.layers.Dense(units=1,activation=\"sigmoid\"))"
   ]
  },
  {
   "cell_type": "code",
   "execution_count": 750,
   "metadata": {},
   "outputs": [
    {
     "name": "stdout",
     "output_type": "stream",
     "text": [
      "Epoch 1/20\n",
      "876/876 [==============================] - 1s 416us/step - loss: 0.2464 - accuracy: 0.9221\n",
      "Epoch 2/20\n",
      "876/876 [==============================] - 0s 423us/step - loss: 0.1652 - accuracy: 0.9388\n",
      "Epoch 3/20\n",
      "876/876 [==============================] - 0s 383us/step - loss: 0.1540 - accuracy: 0.9444\n",
      "Epoch 4/20\n",
      "876/876 [==============================] - 0s 381us/step - loss: 0.1485 - accuracy: 0.9467\n",
      "Epoch 5/20\n",
      "876/876 [==============================] - 0s 380us/step - loss: 0.1442 - accuracy: 0.9477\n",
      "Epoch 6/20\n",
      "876/876 [==============================] - 0s 380us/step - loss: 0.1408 - accuracy: 0.9488\n",
      "Epoch 7/20\n",
      "876/876 [==============================] - 0s 380us/step - loss: 0.1375 - accuracy: 0.9497\n",
      "Epoch 8/20\n",
      "876/876 [==============================] - 0s 384us/step - loss: 0.1347 - accuracy: 0.9507\n",
      "Epoch 9/20\n",
      "876/876 [==============================] - 0s 379us/step - loss: 0.1335 - accuracy: 0.9511\n",
      "Epoch 10/20\n",
      "876/876 [==============================] - 0s 380us/step - loss: 0.1319 - accuracy: 0.9518\n",
      "Epoch 11/20\n",
      "876/876 [==============================] - 0s 380us/step - loss: 0.1307 - accuracy: 0.9526\n",
      "Epoch 12/20\n",
      "876/876 [==============================] - 0s 404us/step - loss: 0.1297 - accuracy: 0.9533\n",
      "Epoch 13/20\n",
      "876/876 [==============================] - 0s 393us/step - loss: 0.1292 - accuracy: 0.9533\n",
      "Epoch 14/20\n",
      "876/876 [==============================] - 0s 401us/step - loss: 0.1284 - accuracy: 0.9542\n",
      "Epoch 15/20\n",
      "876/876 [==============================] - 0s 403us/step - loss: 0.1272 - accuracy: 0.9538\n",
      "Epoch 16/20\n",
      "876/876 [==============================] - 0s 385us/step - loss: 0.1265 - accuracy: 0.9548\n",
      "Epoch 17/20\n",
      "876/876 [==============================] - 0s 381us/step - loss: 0.1261 - accuracy: 0.9547\n",
      "Epoch 18/20\n",
      "876/876 [==============================] - 0s 440us/step - loss: 0.1256 - accuracy: 0.9550\n",
      "Epoch 19/20\n",
      "876/876 [==============================] - 0s 394us/step - loss: 0.1248 - accuracy: 0.9553\n",
      "Epoch 20/20\n",
      "876/876 [==============================] - 0s 394us/step - loss: 0.1246 - accuracy: 0.9548\n"
     ]
    },
    {
     "data": {
      "text/plain": [
       "<keras.src.callbacks.History at 0x2a8e61730>"
      ]
     },
     "execution_count": 750,
     "metadata": {},
     "output_type": "execute_result"
    }
   ],
   "source": [
    "ann.compile(optimizer=\"adam\",loss=\"binary_crossentropy\",metrics=['accuracy'])\n",
    "#history = ann.fit(train, train_y, verbose=0, epochs=100)\n",
    "ann.fit(train,train_y,batch_size=32,epochs = 20, verbose=1)"
   ]
  },
  {
   "cell_type": "code",
   "execution_count": 754,
   "metadata": {},
   "outputs": [
    {
     "name": "stdout",
     "output_type": "stream",
     "text": [
      "99/99 [==============================] - 0s 528us/step\n"
     ]
    },
    {
     "data": {
      "image/png": "[encoded data removed]",
      "text/plain": [
       "<Figure size 640x480 with 2 Axes>"
      ]
     },
     "metadata": {},
     "output_type": "display_data"
    }
   ],
   "source": [
    "ann_pred = (ann.predict(test) > 0.95)\n",
    "cfm_test = confusion_matrix(test_y, ann_pred)\n",
    "ConfusionMatrixDisplay(confusion_matrix=cfm_test).plot();"
   ]
  },
  {
   "cell_type": "code",
   "execution_count": 240,
   "metadata": {},
   "outputs": [
    {
     "name": "stdout",
     "output_type": "stream",
     "text": [
      "Recall: 0.832216563923881\n",
      "Precision: 0.9706158174429509\n",
      "F-Score: 0.8961038961038962\n",
      "Auc: 0.7728155990351112\n"
     ]
    }
   ],
   "source": [
    "precision = precision_score(test_y, ann_pred)\n",
    "recall = recall_score(test_y, ann_pred)\n",
    "f = f1_score(test_y,ann_pred)\n",
    "Auc = roc_auc_score(test_y,ann_pred)\n",
    "\n",
    "print(\"Recall:\", recall)\n",
    "print(\"Precision:\", precision)\n",
    "print(\"F-Score:\", f)\n",
    "print(\"Auc:\", Auc)"
   ]
  },
  {
   "attachments": {},
   "cell_type": "markdown",
   "metadata": {},
   "source": [
    "##### I have tried to increase the number of layers and epochs, but that only gives an outstanding performace on training data and does not perform well on test data"
   ]
  },
  {
   "attachments": {},
   "cell_type": "markdown",
   "metadata": {},
   "source": [
    "### The End of the notebook"
   ]
  },
  {
   "attachments": {},
   "cell_type": "markdown",
   "metadata": {},
   "source": [
    "#### Thank you for reviewing my work, please see the other 2 .py notebooks to see how I deployed my ML model into a web application "
   ]
  },
  {
   "attachments": {},
   "cell_type": "markdown",
   "metadata": {},
   "source": []
  }
 ],
 "metadata": {
  "kernelspec": {
   "display_name": "Python 3",
   "language": "python",
   "name": "python3"
  },
  "language_info": {
   "codemirror_mode": {
    "name": "ipython",
    "version": 3
   },
   "file_extension": ".py",
   "mimetype": "text/x-python",
   "name": "python",
   "nbconvert_exporter": "python",
   "pygments_lexer": "ipython3",
   "version": "3.9.6"
  },
  "orig_nbformat": 4
 },
 "nbformat": 4,
 "nbformat_minor": 2
}
